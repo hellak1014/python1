{
 "cells": [
  {
   "cell_type": "markdown",
   "id": "1f67e19c",
   "metadata": {},
   "source": [
    "# 함수"
   ]
  },
  {
   "cell_type": "code",
   "execution_count": 1,
   "id": "3b90f94e",
   "metadata": {},
   "outputs": [
    {
     "name": "stdout",
     "output_type": "stream",
     "text": [
      "Hello Python!!!\n"
     ]
    }
   ],
   "source": [
    "# 함수 정의 방법\n",
    "\n",
    "def hello():\n",
    "    print(\"Hello Python!!!\")\n",
    "    \n",
    "hello() # 호출 방법"
   ]
  },
  {
   "cell_type": "code",
   "execution_count": 4,
   "id": "1a0f46d0",
   "metadata": {},
   "outputs": [
    {
     "name": "stdout",
     "output_type": "stream",
     "text": [
      "10\n",
      "<function my_abs at 0x000001FF8218E168>\n"
     ]
    }
   ],
   "source": [
    "# 호출과 반환\n",
    "\n",
    "def my_abs(arg):\n",
    "    if(arg < 0):\n",
    "        result = arg * -1\n",
    "    else:\n",
    "        result = arg\n",
    "    \n",
    "    return result\n",
    "\n",
    "# my_abs() # error\n",
    "print(my_abs(-10))\n",
    "print(my_abs) # 할당된 주소값 반환"
   ]
  },
  {
   "cell_type": "code",
   "execution_count": 5,
   "id": "5a6fb9e1",
   "metadata": {},
   "outputs": [
    {
     "name": "stdout",
     "output_type": "stream",
     "text": [
      "안녕하세요.\n",
      "안녕하세요.\n",
      "안녕하세요.\n"
     ]
    }
   ],
   "source": [
    "# 인자(argument) 이름의 올바른 예\n",
    "\n",
    "def print_string1(text, count):\n",
    "    for i in range(count):\n",
    "        print(text)\n",
    "        \n",
    "print_string1('안녕하세요.', 3)"
   ]
  },
  {
   "cell_type": "code",
   "execution_count": 14,
   "id": "dc88a126",
   "metadata": {},
   "outputs": [
    {
     "name": "stdout",
     "output_type": "stream",
     "text": [
      "안녕하세요.\n",
      "안녕하세요.\n",
      "안녕하세요.\n",
      "안녕하세요.\n",
      "안녕하세요.\n"
     ]
    }
   ],
   "source": [
    "# 기본값 인자(Default Argument Value)\n",
    "\n",
    "def print_string2(text, count=1):\n",
    "    for i in range(count):\n",
    "        print(text)\n",
    "        \n",
    "print_string2('안녕하세요.', 5)"
   ]
  },
  {
   "cell_type": "code",
   "execution_count": 15,
   "id": "930cdea4",
   "metadata": {},
   "outputs": [
    {
     "name": "stdout",
     "output_type": "stream",
     "text": [
      "안녕하세요.\n"
     ]
    }
   ],
   "source": [
    "print_string2('안녕하세요.')"
   ]
  },
  {
   "cell_type": "markdown",
   "id": "2a152cc2",
   "metadata": {},
   "source": [
    "## - 키워드 인자(Keyword Argument)\n",
    "    : 호출자가 매개변수의 이름을 일일이 지정해 데이터를 입력하는 것."
   ]
  },
  {
   "cell_type": "code",
   "execution_count": 20,
   "id": "7ba20609",
   "metadata": {},
   "outputs": [],
   "source": [
    "def print_personnel(name, position='staff', nationality='Korea'):\n",
    "    print('name = {0}'.format(name))\n",
    "    print('position = {0}'.format(position))\n",
    "    print('nationality = {0}'.format(nationality))\n",
    "    "
   ]
  },
  {
   "cell_type": "code",
   "execution_count": 21,
   "id": "b0a4235d",
   "metadata": {},
   "outputs": [
    {
     "name": "stdout",
     "output_type": "stream",
     "text": [
      "name = 홍길동\n",
      "position = student\n",
      "nationality = American\n"
     ]
    }
   ],
   "source": [
    "print_personnel('홍길동', 'student', 'American')"
   ]
  },
  {
   "cell_type": "code",
   "execution_count": 22,
   "id": "5b588d89",
   "metadata": {},
   "outputs": [
    {
     "name": "stdout",
     "output_type": "stream",
     "text": [
      "name = 홍길동\n",
      "position = student\n",
      "nationality = Korea\n"
     ]
    }
   ],
   "source": [
    "print_personnel('홍길동', 'student')"
   ]
  },
  {
   "cell_type": "code",
   "execution_count": 23,
   "id": "e59dcb91",
   "metadata": {},
   "outputs": [
    {
     "name": "stdout",
     "output_type": "stream",
     "text": [
      "name = 홍길동\n",
      "position = staff\n",
      "nationality = Korea\n"
     ]
    }
   ],
   "source": [
    "print_personnel('홍길동')"
   ]
  },
  {
   "cell_type": "code",
   "execution_count": 24,
   "id": "c276efc0",
   "metadata": {},
   "outputs": [
    {
     "name": "stdout",
     "output_type": "stream",
     "text": [
      "name = 강감찬\n",
      "position = staff\n",
      "nationality = Korea\n"
     ]
    }
   ],
   "source": [
    "print_personnel(name = '강감찬')"
   ]
  },
  {
   "cell_type": "code",
   "execution_count": 25,
   "id": "e01c2ed7",
   "metadata": {},
   "outputs": [
    {
     "ename": "TypeError",
     "evalue": "print_personnel() missing 1 required positional argument: 'name'",
     "output_type": "error",
     "traceback": [
      "\u001b[1;31m---------------------------------------------------------------------------\u001b[0m",
      "\u001b[1;31mTypeError\u001b[0m                                 Traceback (most recent call last)",
      "\u001b[1;32m~\\AppData\\Local\\Temp\\ipykernel_14892\\3585323139.py\u001b[0m in \u001b[0;36m<module>\u001b[1;34m\u001b[0m\n\u001b[1;32m----> 1\u001b[1;33m \u001b[0mprint_personnel\u001b[0m\u001b[1;33m(\u001b[0m\u001b[0mnationality\u001b[0m \u001b[1;33m=\u001b[0m \u001b[1;34m'Japan'\u001b[0m\u001b[1;33m)\u001b[0m\u001b[1;33m\u001b[0m\u001b[1;33m\u001b[0m\u001b[0m\n\u001b[0m",
      "\u001b[1;31mTypeError\u001b[0m: print_personnel() missing 1 required positional argument: 'name'"
     ]
    }
   ],
   "source": [
    "print_personnel(nationality = 'Japan') # error - name에 데이터 미전달."
   ]
  },
  {
   "cell_type": "code",
   "execution_count": 26,
   "id": "500a79c2",
   "metadata": {},
   "outputs": [
    {
     "name": "stdout",
     "output_type": "stream",
     "text": [
      "name = 이순신\n",
      "position = staff\n",
      "nationality = Japan\n"
     ]
    }
   ],
   "source": [
    "print_personnel(name=\"이순신\", nationality = 'Japan')"
   ]
  },
  {
   "cell_type": "code",
   "execution_count": 27,
   "id": "a02f5842",
   "metadata": {},
   "outputs": [
    {
     "name": "stdout",
     "output_type": "stream",
     "text": [
      "name = 박명수\n",
      "position = business\n",
      "nationality = Korea\n"
     ]
    }
   ],
   "source": [
    "print_personnel(position=\"business\", name = '박명수')"
   ]
  },
  {
   "cell_type": "code",
   "execution_count": 28,
   "id": "763e1bab",
   "metadata": {},
   "outputs": [
    {
     "ename": "TypeError",
     "evalue": "print_personnel() got an unexpected keyword argument 'pos'",
     "output_type": "error",
     "traceback": [
      "\u001b[1;31m---------------------------------------------------------------------------\u001b[0m",
      "\u001b[1;31mTypeError\u001b[0m                                 Traceback (most recent call last)",
      "\u001b[1;32m~\\AppData\\Local\\Temp\\ipykernel_14892\\587656763.py\u001b[0m in \u001b[0;36m<module>\u001b[1;34m\u001b[0m\n\u001b[1;32m----> 1\u001b[1;33m \u001b[0mprint_personnel\u001b[0m\u001b[1;33m(\u001b[0m\u001b[0mpos\u001b[0m\u001b[1;33m=\u001b[0m\u001b[1;34m\"business\"\u001b[0m\u001b[1;33m,\u001b[0m \u001b[0mname\u001b[0m \u001b[1;33m=\u001b[0m \u001b[1;34m'박명수'\u001b[0m\u001b[1;33m)\u001b[0m\u001b[1;33m\u001b[0m\u001b[1;33m\u001b[0m\u001b[0m\n\u001b[0m",
      "\u001b[1;31mTypeError\u001b[0m: print_personnel() got an unexpected keyword argument 'pos'"
     ]
    }
   ],
   "source": [
    "print_personnel(pos=\"business\", name = '박명수') # error - R처럼 겹치지 않는 최소한의 매개변수명 호출은 지원하지 않음."
   ]
  },
  {
   "cell_type": "markdown",
   "id": "42c3ce65",
   "metadata": {},
   "source": [
    "## - 가변 매개 변수(Arbitary Argument List)"
   ]
  },
  {
   "cell_type": "code",
   "execution_count": 29,
   "id": "fa4b9660",
   "metadata": {},
   "outputs": [
    {
     "name": "stdout",
     "output_type": "stream",
     "text": [
      "<class 'tuple'>\n",
      "아버지가 방에 들어가신다.\n"
     ]
    }
   ],
   "source": [
    "def merge_string(*text_list):\n",
    "    print(type(text_list))\n",
    "    \n",
    "    result = ''\n",
    "    for s in text_list:\n",
    "        result += s\n",
    "        \n",
    "    return result\n",
    "\n",
    "print(merge_string('아버지가 ', '방에 ', '들어가신다.'))\n",
    "# 가변으로 처리되는 타입의 매개변수는 원하는 결과가 도출되어 질 수 있도록 안에 기능을 구현해 주어야 사용이 가능하다."
   ]
  },
  {
   "cell_type": "code",
   "execution_count": 31,
   "id": "82544036",
   "metadata": {},
   "outputs": [
    {
     "name": "stdout",
     "output_type": "stream",
     "text": [
      "<class 'dict'>\n",
      "손흥민 = 축구\n",
      "류현진 = 야구\n",
      "서장훈 = 농구\n"
     ]
    }
   ],
   "source": [
    "def print_team(**players):\n",
    "    print(type(players)) # <class 'dict'>\n",
    "    \n",
    "    for k in players.keys():\n",
    "        print('{0} = {1}'.format(k, players[k]))\n",
    "        \n",
    "print_team(손흥민='축구', 류현진='야구', 서장훈='농구')\n",
    "# key : value의 데이터를 개수에 상관없이 가변처리하고 있는 매개변수 이구나. 생각하면 된다. 자료형은 dict으로 제공."
   ]
  },
  {
   "cell_type": "code",
   "execution_count": 33,
   "id": "948b0b1d",
   "metadata": {},
   "outputs": [],
   "source": [
    "def print_args1(argc, *argv):\n",
    "    for i in range(argc):\n",
    "        print(argv[i])\n",
    "        "
   ]
  },
  {
   "cell_type": "code",
   "execution_count": 34,
   "id": "500ddef3",
   "metadata": {},
   "outputs": [
    {
     "name": "stdout",
     "output_type": "stream",
     "text": [
      "홍길동\n",
      "이순신\n",
      "강감찬\n"
     ]
    }
   ],
   "source": [
    "print_args1(3, '홍길동', '이순신', '강감찬')"
   ]
  },
  {
   "cell_type": "code",
   "execution_count": 35,
   "id": "196b4703",
   "metadata": {},
   "outputs": [
    {
     "ename": "SyntaxError",
     "evalue": "positional argument follows keyword argument (571980309.py, line 1)",
     "output_type": "error",
     "traceback": [
      "\u001b[1;36m  File \u001b[1;32m\"C:\\Users\\tjouen-jr\\AppData\\Local\\Temp\\ipykernel_14892\\571980309.py\"\u001b[1;36m, line \u001b[1;32m1\u001b[0m\n\u001b[1;33m    print_args1(argc = 3, '홍길동', '이순신', '강감찬')\u001b[0m\n\u001b[1;37m                         ^\u001b[0m\n\u001b[1;31mSyntaxError\u001b[0m\u001b[1;31m:\u001b[0m positional argument follows keyword argument\n"
     ]
    }
   ],
   "source": [
    "# 주의 : 이런 방식을 제공하게 되면 너무 많은 경우의 수를 읽어야 하므로 제공하고 있지 않다.\n",
    "print_args1(argc = 3, '홍길동', '이순신', '강감찬') # error"
   ]
  },
  {
   "cell_type": "code",
   "execution_count": 36,
   "id": "b9670de2",
   "metadata": {},
   "outputs": [
    {
     "ename": "SyntaxError",
     "evalue": "positional argument follows keyword argument (2491175225.py, line 1)",
     "output_type": "error",
     "traceback": [
      "\u001b[1;36m  File \u001b[1;32m\"C:\\Users\\tjouen-jr\\AppData\\Local\\Temp\\ipykernel_14892\\2491175225.py\"\u001b[1;36m, line \u001b[1;32m1\u001b[0m\n\u001b[1;33m    print_args1('홍길동', argc = 3, '이순신', '강감찬') # error\u001b[0m\n\u001b[1;37m                                      ^\u001b[0m\n\u001b[1;31mSyntaxError\u001b[0m\u001b[1;31m:\u001b[0m positional argument follows keyword argument\n"
     ]
    }
   ],
   "source": [
    "print_args1('홍길동', argc = 3, '이순신', '강감찬') # error"
   ]
  },
  {
   "cell_type": "code",
   "execution_count": 37,
   "id": "776f8fc7",
   "metadata": {},
   "outputs": [],
   "source": [
    "def print_args2(*argv, argc):\n",
    "    for i in range(argc):\n",
    "        print(argv[i])"
   ]
  },
  {
   "cell_type": "code",
   "execution_count": 38,
   "id": "72b6e010",
   "metadata": {},
   "outputs": [
    {
     "ename": "TypeError",
     "evalue": "print_args2() missing 1 required keyword-only argument: 'argc'",
     "output_type": "error",
     "traceback": [
      "\u001b[1;31m---------------------------------------------------------------------------\u001b[0m",
      "\u001b[1;31mTypeError\u001b[0m                                 Traceback (most recent call last)",
      "\u001b[1;32m~\\AppData\\Local\\Temp\\ipykernel_14892\\1459749605.py\u001b[0m in \u001b[0;36m<module>\u001b[1;34m\u001b[0m\n\u001b[1;32m----> 1\u001b[1;33m \u001b[0mprint_args2\u001b[0m\u001b[1;33m(\u001b[0m\u001b[1;34m'홍길동'\u001b[0m\u001b[1;33m,\u001b[0m \u001b[1;34m'이순신'\u001b[0m\u001b[1;33m,\u001b[0m \u001b[1;34m'강감찬'\u001b[0m\u001b[1;33m,\u001b[0m \u001b[1;36m3\u001b[0m\u001b[1;33m)\u001b[0m\u001b[1;33m\u001b[0m\u001b[1;33m\u001b[0m\u001b[0m\n\u001b[0m",
      "\u001b[1;31mTypeError\u001b[0m: print_args2() missing 1 required keyword-only argument: 'argc'"
     ]
    }
   ],
   "source": [
    "print_args2('홍길동', '이순신', '강감찬', 3) # error\n",
    "# 첫번째 매개변수가 가변인자라서 일반인자를 뒤에 적어도 전부 가변인자로 인식하고 있기 때문에 에러가 난다."
   ]
  },
  {
   "cell_type": "code",
   "execution_count": 39,
   "id": "465fdb76",
   "metadata": {},
   "outputs": [
    {
     "name": "stdout",
     "output_type": "stream",
     "text": [
      "홍길동\n",
      "이순신\n",
      "강감찬\n"
     ]
    }
   ],
   "source": [
    "print_args2('홍길동', '이순신', '강감찬', argc = 3)\n",
    "# 이때는 이렇게 사용이 가능!"
   ]
  },
  {
   "cell_type": "code",
   "execution_count": 40,
   "id": "ebe6f584",
   "metadata": {},
   "outputs": [
    {
     "name": "stdout",
     "output_type": "stream",
     "text": [
      "15\n"
     ]
    }
   ],
   "source": [
    "# 호출자에게 반환하기\n",
    "\n",
    "def multiply(x1, x2):\n",
    "    return x1 * x2        # 1 . 함수 즉시 종료 / 2. 호출자에게 결과 전달\n",
    "\n",
    "result = multiply(3, 5)\n",
    "print(result)"
   ]
  },
  {
   "cell_type": "code",
   "execution_count": 41,
   "id": "2a63316d",
   "metadata": {},
   "outputs": [],
   "source": [
    "# 한 함수 안에 여러 개의 return 배치 가능.\n",
    "\n",
    "def my_abs1(arg):\n",
    "    if arg < 0:\n",
    "        return arg * -1\n",
    "    else:\n",
    "        return arg"
   ]
  },
  {
   "cell_type": "code",
   "execution_count": 42,
   "id": "1922b382",
   "metadata": {},
   "outputs": [
    {
     "name": "stdout",
     "output_type": "stream",
     "text": [
      "50\n"
     ]
    }
   ],
   "source": [
    "result = my_abs1(-50)\n",
    "print(result)"
   ]
  },
  {
   "cell_type": "code",
   "execution_count": 43,
   "id": "db702678",
   "metadata": {},
   "outputs": [
    {
     "name": "stdout",
     "output_type": "stream",
     "text": [
      "0\n",
      "<class 'int'>\n"
     ]
    }
   ],
   "source": [
    "# 주의\n",
    "def my_abs2(arg):\n",
    "    if arg < 0:\n",
    "        return arg * -1\n",
    "    elif(arg > 0):\n",
    "        return arg\n",
    "    else:\n",
    "        return arg\n",
    "    \n",
    "result = my_abs2(0)\n",
    "print(result) # None : 값이 없다. (else 없을 때)\n",
    "print(type(result)) # <class 'NoneType'> (else 없을 때)"
   ]
  },
  {
   "cell_type": "code",
   "execution_count": 44,
   "id": "aea4bb60",
   "metadata": {},
   "outputs": [
    {
     "name": "stdout",
     "output_type": "stream",
     "text": [
      "1\n",
      "2\n",
      "3\n",
      "4\n",
      "5\n"
     ]
    }
   ],
   "source": [
    "def print_something(*args): # 3. 반환 할 결과가 없고, 함수 중간에 종료 시켜야 할 일도 없을 때 return문 생략 가능.\n",
    "    for s in args:\n",
    "        print(s)\n",
    "        \n",
    "print_something(1, 2, 3, 4, 5)"
   ]
  },
  {
   "cell_type": "markdown",
   "id": "86bc511c",
   "metadata": {},
   "source": [
    "## - 변수의 유효 범위(scope)"
   ]
  },
  {
   "cell_type": "code",
   "execution_count": 45,
   "id": "503ff941",
   "metadata": {},
   "outputs": [
    {
     "name": "stdout",
     "output_type": "stream",
     "text": [
      "x:1\n",
      "x:0\n"
     ]
    }
   ],
   "source": [
    "def scope_test1():\n",
    "    x = 1                        # 함수 호출 시 메모리 생성(함수 안)\n",
    "    print('x:{0}'.format(x))\n",
    "    \n",
    "x = 0                            # 함수 밖 변수 선언. python은 함수 안에서 선언된 변수는 함수 내부에서만 사용된다고 인식한다. \n",
    "scope_test1()                    # 따라서 함수 내에서 format매서드를 사용할 경우 가장 근처에 있는 것을 호출한다. \n",
    "print('x:{0}'.format(x))         # 그래서 함수를 호출하고 난 뒤에 있는 x=1은 함수를 호출하고 난 뒤에 삭제되는 지역변수. \n",
    "                                 # 따라서 마지막 줄 print함수는 x=0으로 인식을 하게 된다. "
   ]
  },
  {
   "cell_type": "code",
   "execution_count": 46,
   "id": "4b467404",
   "metadata": {},
   "outputs": [
    {
     "name": "stdout",
     "output_type": "stream",
     "text": [
      "x:0\n",
      "x:1\n",
      "x:1\n"
     ]
    }
   ],
   "source": [
    "def scope_test2():\n",
    "    global x                    # global 키워드 : 전역변수, 지역변수의 생성을 막는다. = java에서 변수에 static을 거는 느낌. \n",
    "    x = 1                        # 함수 호출 시 메모리 생성(함수 안)\n",
    "    print('x:{0}'.format(x))\n",
    "    \n",
    "x = 0                            # 함수 밖 변수 선언. 그런데 global변수가 선언되면 그 주소값을 변경한다. \n",
    "print('x:{0}'.format(x))\n",
    "scope_test2()\n",
    "print('x:{0}'.format(x))"
   ]
  },
  {
   "cell_type": "code",
   "execution_count": 1,
   "id": "ccf21ce9",
   "metadata": {},
   "outputs": [
    {
     "name": "stdout",
     "output_type": "stream",
     "text": [
      "123\n"
     ]
    }
   ],
   "source": [
    "#함수를 변수에 담아 사용\n",
    "\n",
    "def print_something(x):    #함수 정의. 하나의 데이터를 받아서 수행\n",
    "    print(x)               #받은 데이터 출력하기. \n",
    "    \n",
    "print_something(123)       #데이터 전달. "
   ]
  },
  {
   "cell_type": "code",
   "execution_count": 3,
   "id": "cc6efd9c",
   "metadata": {},
   "outputs": [
    {
     "name": "stdout",
     "output_type": "stream",
     "text": [
      "456\n",
      "abcd\n"
     ]
    }
   ],
   "source": [
    "p = print_something       # 함수를 선언하기 위한 변수. \n",
    "p(456)\n",
    "p('abcd')"
   ]
  },
  {
   "cell_type": "code",
   "execution_count": 4,
   "id": "fe62f63b",
   "metadata": {},
   "outputs": [],
   "source": [
    "## 순서열 (리스트, 튜플) / 딕셔너리에도 변수를 담아보기"
   ]
  },
  {
   "cell_type": "code",
   "execution_count": 5,
   "id": "228696c9",
   "metadata": {},
   "outputs": [
    {
     "name": "stdout",
     "output_type": "stream",
     "text": [
      "3\n",
      "1\n"
     ]
    }
   ],
   "source": [
    "def plus (x1, x2):\n",
    "    return x1 + x2\n",
    "\n",
    "def minus(x1, x2):\n",
    "    return x1-x2\n",
    "\n",
    "flist = [plus, minus]  #flist 변수 설정. 안에 함수를 담기.\n",
    "print(flist[0](1,2)) #plus 함수 호출하면서 매개변수 설정. plus(1,2)와 똑같음. \n",
    "print(flist[1](10,9))"
   ]
  },
  {
   "cell_type": "code",
   "execution_count": 7,
   "id": "2e0923c6",
   "metadata": {},
   "outputs": [
    {
     "name": "stdout",
     "output_type": "stream",
     "text": [
      "안녕하세요\n",
      "hello\n"
     ]
    }
   ],
   "source": [
    "#함수의 매개변수에 함수 전달 가능. \n",
    "\n",
    "def hello_korea():\n",
    "    print('안녕하세요')\n",
    "\n",
    "def hello_english():\n",
    "    print('hello')\n",
    "\n",
    "def greet(hello):           #매개변수 hello 전달\n",
    "    hello()                 #매개변수를 함수처럼 호출. \n",
    "    \n",
    "greet(hello_korea)         #매개변수를 함수처럼 호출이 가능하기 때문에 greet을 호출 = hello_korea() 가 호출되는것과 같다. \n",
    "greet(hello_english)       #함수를 호출하면서 입력받은 매개변수에 함수를 호출. "
   ]
  },
  {
   "cell_type": "code",
   "execution_count": 8,
   "id": "54c0a579",
   "metadata": {},
   "outputs": [
    {
     "name": "stdout",
     "output_type": "stream",
     "text": [
      "안녕하세요\n",
      "hello\n"
     ]
    }
   ],
   "source": [
    "# 함수 내에서 함수를 반환. \n",
    "\n",
    "def get_greeting(where):\n",
    "    if where == 'K':\n",
    "        return hello_korea     #리턴 값이 함수. \n",
    "    else:\n",
    "        return hello_english   #리턴 값이 함수.\n",
    "\n",
    "    \n",
    "hello = get_greeting('K')\n",
    "hello()\n",
    "\n",
    "hello = get_greeting('A')\n",
    "hello()"
   ]
  },
  {
   "cell_type": "markdown",
   "id": "8bd53b35",
   "metadata": {},
   "source": [
    "## - 중첩 함수"
   ]
  },
  {
   "cell_type": "code",
   "execution_count": 9,
   "id": "baa2399f",
   "metadata": {},
   "outputs": [
    {
     "name": "stdout",
     "output_type": "stream",
     "text": [
      "0.6\n"
     ]
    }
   ],
   "source": [
    "import math               #sum 함수를 사용하기 위한 import. \n",
    "\n",
    "def stddev(*args):        #가변인자 매개함수. 매개변수의 갯수의 제한을 두지 않겠다. \n",
    "    def mean():           #중첩 함수. 함수 안에 함수. \n",
    "        return sum(args) / len(args)\n",
    "    \n",
    "    def variance(m):     #중첩 함수. 분산을 의미하는 variance. 내 값과 평균의 차를 제곱하여 누적한 다음 누적된 값을 평균. \n",
    "        total = 0\n",
    "        for arg in args:\n",
    "            total += (arg - m) ** 2  #arg값에서 평균을 뺀뒤 제곱을 해준것을 더한다. \n",
    "            \n",
    "        return total / (len(args)-1) # -1을 한 이유 : 자유도\n",
    "    \n",
    "    v = variance(mean()) #variance를 호출하면서 평균을 하게 함. \n",
    "    return math.sqrt(v) #분산에 루트를 씌우면서 표준 편차 완성. \n",
    "\n",
    "\n",
    "print(stddev(2.3, 1.7, 1.4, 0.7, 1.9))"
   ]
  },
  {
   "cell_type": "code",
   "execution_count": 10,
   "id": "b285596e",
   "metadata": {},
   "outputs": [
    {
     "ename": "NameError",
     "evalue": "name 'mean' is not defined",
     "output_type": "error",
     "traceback": [
      "\u001b[1;31m---------------------------------------------------------------------------\u001b[0m",
      "\u001b[1;31mNameError\u001b[0m                                 Traceback (most recent call last)",
      "\u001b[1;32m~\\AppData\\Local\\Temp\\ipykernel_17936\\1096016813.py\u001b[0m in \u001b[0;36m<module>\u001b[1;34m\u001b[0m\n\u001b[1;32m----> 1\u001b[1;33m \u001b[0mprint\u001b[0m\u001b[1;33m(\u001b[0m\u001b[0mmean\u001b[0m\u001b[1;33m(\u001b[0m\u001b[1;33m)\u001b[0m\u001b[1;33m)\u001b[0m\u001b[1;33m\u001b[0m\u001b[1;33m\u001b[0m\u001b[0m\n\u001b[0m",
      "\u001b[1;31mNameError\u001b[0m: name 'mean' is not defined"
     ]
    }
   ],
   "source": [
    "print(mean())        #error - 중첩함수는 외부에서 호출이 불가능 하다. "
   ]
  },
  {
   "cell_type": "code",
   "execution_count": 11,
   "id": "60ea907d",
   "metadata": {},
   "outputs": [
    {
     "ename": "SyntaxError",
     "evalue": "unexpected EOF while parsing (2026548182.py, line 3)",
     "output_type": "error",
     "traceback": [
      "\u001b[1;36m  File \u001b[1;32m\"C:\\Users\\hella\\AppData\\Local\\Temp\\ipykernel_17936\\2026548182.py\"\u001b[1;36m, line \u001b[1;32m3\u001b[0m\n\u001b[1;33m    def empty_function():\u001b[0m\n\u001b[1;37m                         ^\u001b[0m\n\u001b[1;31mSyntaxError\u001b[0m\u001b[1;31m:\u001b[0m unexpected EOF while parsing\n"
     ]
    }
   ],
   "source": [
    "# 함수의 정의를 해주지 않으면 에러가 발생한다. \n",
    "\n",
    "def empty_function():          "
   ]
  },
  {
   "cell_type": "code",
   "execution_count": 12,
   "id": "79010b32",
   "metadata": {},
   "outputs": [],
   "source": [
    "# 함수의 정의를 해주지 않으면 에러가 발생한다. \n",
    "\n",
    "def empty_function():           #R의 경우 function empty_function(){} 해놓고 나중에 {}안에 기능을 구현하면 되었었는데 여기서는 안된다. \n",
    "    pass                        # 기능은 완성 안했는데 에러 내지 말고 지나가라는 pass\n",
    "\n",
    "empty_function()"
   ]
  },
  {
   "cell_type": "code",
   "execution_count": 13,
   "id": "dfa8ab5c",
   "metadata": {},
   "outputs": [],
   "source": [
    "# cf(). 클래스도 참조자료의 구현을 미루고 pass를 사용할 수 있다. \n",
    "class empty_class:\n",
    "    pass"
   ]
  },
  {
   "cell_type": "code",
   "execution_count": null,
   "id": "0b5787c2",
   "metadata": {},
   "outputs": [],
   "source": []
  }
 ],
 "metadata": {
  "kernelspec": {
   "display_name": "Python 3 (ipykernel)",
   "language": "python",
   "name": "python3"
  },
  "language_info": {
   "codemirror_mode": {
    "name": "ipython",
    "version": 3
   },
   "file_extension": ".py",
   "mimetype": "text/x-python",
   "name": "python",
   "nbconvert_exporter": "python",
   "pygments_lexer": "ipython3",
   "version": "3.7.13"
  }
 },
 "nbformat": 4,
 "nbformat_minor": 5
}
