{
 "cells": [
  {
   "cell_type": "markdown",
   "id": "f55410e0",
   "metadata": {},
   "source": [
    "## - 헥스코드"
   ]
  },
  {
   "cell_type": "code",
   "execution_count": 1,
   "id": "f879e070",
   "metadata": {},
   "outputs": [
    {
     "name": "stdout",
     "output_type": "stream",
     "text": [
      "0xff\n",
      "0xe\n"
     ]
    }
   ],
   "source": [
    "print(hex(255))\n",
    "print(hex(14))"
   ]
  },
  {
   "cell_type": "code",
   "execution_count": 2,
   "id": "44f24fbf",
   "metadata": {},
   "outputs": [
    {
     "name": "stdout",
     "output_type": "stream",
     "text": [
      "10\n"
     ]
    }
   ],
   "source": [
    "a = 0b1010\n",
    "print (a)"
   ]
  },
  {
   "cell_type": "code",
   "execution_count": 3,
   "id": "d3ac3eba",
   "metadata": {},
   "outputs": [
    {
     "name": "stdout",
     "output_type": "stream",
     "text": [
      "0.10000000000000142\n"
     ]
    }
   ],
   "source": [
    "x = 43.2 - 43.1\n",
    "print (x)"
   ]
  },
  {
   "cell_type": "markdown",
   "id": "1433b672",
   "metadata": {},
   "source": [
    "## - 문자열"
   ]
  },
  {
   "cell_type": "code",
   "execution_count": 4,
   "id": "7da074fa",
   "metadata": {},
   "outputs": [
    {
     "name": "stdout",
     "output_type": "stream",
     "text": [
      "Hello, Python\n"
     ]
    }
   ],
   "source": [
    "a = \"Hello, Python\"\n",
    "print(a)"
   ]
  },
  {
   "cell_type": "code",
   "execution_count": 5,
   "id": "12d70af3",
   "metadata": {},
   "outputs": [
    {
     "name": "stdout",
     "output_type": "stream",
     "text": [
      "hello, Python\n"
     ]
    }
   ],
   "source": [
    "a = 'hello, Python' #큰따옴표 작은따옴표 구별 X. 교차는 안된다. \n",
    "print(a)"
   ]
  },
  {
   "cell_type": "code",
   "execution_count": null,
   "id": "a7c31d7d",
   "metadata": {},
   "outputs": [],
   "source": [
    "str = \"\"\"\n",
    "내일 하나 그러나 벌레는 밤이 오는 잠, 이웃 거외다. 이국 많은 걱정도 둘 마리아 봅니다.\n",
    "\n",
    "아름다운 불러 어머님, 쓸쓸함과 덮어 별 많은 버리었습니다. 없이 멀리 릴케 까닭입니다. \n",
    "소녀들의 오면 봄이 봅니다. 하나에 차 패, 풀이 가을로 노새, 새워 불러 책상을 거외다.\n",
    "\"\"\""
   ]
  }
 ],
 "metadata": {
  "kernelspec": {
   "display_name": "Python [conda env:tf_cpu] *",
   "language": "python",
   "name": "conda-env-tf_cpu-py"
  },
  "language_info": {
   "codemirror_mode": {
    "name": "ipython",
    "version": 3
   },
   "file_extension": ".py",
   "mimetype": "text/x-python",
   "name": "python",
   "nbconvert_exporter": "python",
   "pygments_lexer": "ipython3",
   "version": "3.7.13"
  }
 },
 "nbformat": 4,
 "nbformat_minor": 5
}
