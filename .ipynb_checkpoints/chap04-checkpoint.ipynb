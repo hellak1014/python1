{
 "cells": [
  {
   "cell_type": "markdown",
   "id": "e69b6937",
   "metadata": {},
   "source": [
    "# 조건문"
   ]
  },
  {
   "cell_type": "markdown",
   "id": "b18b6902",
   "metadata": {},
   "source": [
    "##### 데이터를 입력받는 함수 : java는 scanner, js는 input, R은 input, Python도 input."
   ]
  },
  {
   "cell_type": "code",
   "execution_count": 10,
   "id": "06cd898a",
   "metadata": {},
   "outputs": [
    {
     "name": "stdout",
     "output_type": "stream",
     "text": [
      "수를 입력하세요 : \n",
      "0\n",
      "0은 나눗셈에 이용할 수 없습니다.\n"
     ]
    },
    {
     "ename": "SystemExit",
     "evalue": "0",
     "output_type": "error",
     "traceback": [
      "An exception has occurred, use %tb to see the full traceback.\n",
      "\u001b[1;31mSystemExit\u001b[0m\u001b[1;31m:\u001b[0m 0\n"
     ]
    },
    {
     "name": "stderr",
     "output_type": "stream",
     "text": [
      "C:\\ProgramData\\Anaconda3\\envs\\tf_cpu\\lib\\site-packages\\IPython\\core\\interactiveshell.py:3465: UserWarning: To exit: use 'exit', 'quit', or Ctrl-D.\n",
      "  warn(\"To exit: use 'exit', 'quit', or Ctrl-D.\", stacklevel=1)\n"
     ]
    }
   ],
   "source": [
    "import sys #사용할 모듈을 import한다.\n",
    "\n",
    "print('수를 입력하세요 : ')\n",
    "\n",
    "num = int(input())\n",
    "\n",
    "#python의 if는 괄호 없이 조건만 가져온다. (조건은 최종 boolean값.)\n",
    "#python은 중괄호가 없기 때문에, 참일 경우 여기서 시작하라는 뜻의 : (콜론)을 쓴다. \n",
    "#그리고 끝나야 한다는 특정 구분 언어가 없으며, 들여쓰기로 표시한다. \n",
    "#똑같은 간격으로 들여쓰기를 하면, 그 조건으로 인식을 한다. 칸수 제한은 없다. \n",
    "if num == 0:\n",
    "    print('0은 나눗셈에 이용할 수 없습니다.')\n",
    "    sys.exit(0) #시스템 모듈이 제공하는 함수. \n",
    "    \n",
    "print('3 /', num, '=', 3/num)"
   ]
  },
  {
   "cell_type": "code",
   "execution_count": null,
   "id": "fbaa9660",
   "metadata": {},
   "outputs": [],
   "source": []
  }
 ],
 "metadata": {
  "kernelspec": {
   "display_name": "Python 3 (ipykernel)",
   "language": "python",
   "name": "python3"
  },
  "language_info": {
   "codemirror_mode": {
    "name": "ipython",
    "version": 3
   },
   "file_extension": ".py",
   "mimetype": "text/x-python",
   "name": "python",
   "nbconvert_exporter": "python",
   "pygments_lexer": "ipython3",
   "version": "3.7.13"
  }
 },
 "nbformat": 4,
 "nbformat_minor": 5
}
