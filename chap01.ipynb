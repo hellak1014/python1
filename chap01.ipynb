{
 "cells": [
  {
   "cell_type": "markdown",
   "id": "a95e92ec",
   "metadata": {},
   "source": [
    "# chap01\n",
    "## python 기본 문법\n",
    "### - 출력문"
   ]
  },
  {
   "cell_type": "markdown",
   "id": "c00085cd",
   "metadata": {},
   "source": [
    "print(\"hello python!\") # 이것이 주석입니다. "
   ]
  },
  {
   "cell_type": "markdown",
   "id": "57e43360",
   "metadata": {},
   "source": [
    "print(\"hello world!!!!\" + \"Happy Python.\")\n",
    "print(\"hello world!!!!\" , \"Happy Python.\")"
   ]
  },
  {
   "cell_type": "markdown",
   "id": "990b4516",
   "metadata": {},
   "source": [
    "### -연산 기능 (+ , -, *, /)"
   ]
  },
  {
   "cell_type": "code",
   "execution_count": 10,
   "id": "fd7b32b5",
   "metadata": {},
   "outputs": [
    {
     "data": {
      "text/plain": [
       "5"
      ]
     },
     "execution_count": 10,
     "metadata": {},
     "output_type": "execute_result"
    }
   ],
   "source": [
    "3+2"
   ]
  },
  {
   "cell_type": "code",
   "execution_count": 12,
   "id": "07093e02",
   "metadata": {},
   "outputs": [
    {
     "name": "stdout",
     "output_type": "stream",
     "text": [
      "3.14\n",
      "3.14\n"
     ]
    }
   ],
   "source": [
    "print(3.14)\n",
    "print(\"3.14\")"
   ]
  },
  {
   "cell_type": "code",
   "execution_count": null,
   "id": "c5cbdd1c",
   "metadata": {},
   "outputs": [],
   "source": []
  }
 ],
 "metadata": {
  "kernelspec": {
   "display_name": "Python [conda env:tf_cpu] *",
   "language": "python",
   "name": "conda-env-tf_cpu-py"
  },
  "language_info": {
   "codemirror_mode": {
    "name": "ipython",
    "version": 3
   },
   "file_extension": ".py",
   "mimetype": "text/x-python",
   "name": "python",
   "nbconvert_exporter": "python",
   "pygments_lexer": "ipython3",
   "version": "3.7.13"
  }
 },
 "nbformat": 4,
 "nbformat_minor": 5
}
