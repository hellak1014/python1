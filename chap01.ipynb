{
 "cells": [
  {
   "cell_type": "markdown",
   "id": "00b36872",
   "metadata": {},
   "source": [
    "# chap01\n",
    "## python 기본 문법\n",
    "### - 출력문"
   ]
  },
  {
   "cell_type": "markdown",
   "id": "009492a9",
   "metadata": {},
   "source": [
    "print(\"hello python!\") # 이것이 주석입니다. "
   ]
  },
  {
   "cell_type": "markdown",
   "id": "38461972",
   "metadata": {},
   "source": [
    "print(\"hello world!!!!\" + \"Happy Python.\")\n",
    "print(\"hello world!!!!\" , \"Happy Python.\")"
   ]
  },
  {
   "cell_type": "markdown",
   "id": "4c213f46",
   "metadata": {},
   "source": [
    "### -연산 기능 (+ , -, *, /)"
   ]
  },
  {
   "cell_type": "markdown",
   "id": "2025b98f",
   "metadata": {},
   "source": [
    "3+2"
   ]
  },
  {
   "cell_type": "markdown",
   "id": "0021bb63",
   "metadata": {},
   "source": [
    "print(3.14)\n",
    "print(\"3.14\")"
   ]
  },
  {
   "cell_type": "markdown",
   "id": "841cc361",
   "metadata": {},
   "source": [
    "print(1, 3.14, \"안녕하세요.\")"
   ]
  },
  {
   "cell_type": "markdown",
   "id": "62b8bf51",
   "metadata": {},
   "source": [
    "### - 변수"
   ]
  },
  {
   "cell_type": "markdown",
   "id": "c85ab60e",
   "metadata": {},
   "source": [
    "#### 변수 : 데이터를 보관하는 메모리 공간. "
   ]
  },
  {
   "cell_type": "markdown",
   "id": "1dacf6a7",
   "metadata": {},
   "source": [
    "##### 자바 : int, double, char, boolean, String. (의미 1.자바 메모리 할당 요청어들 의미 2. 메모리에 담을 수 있는 데이터 타입에 대한 정보. \n",
    "#####                                                                      의미 3. 메모리의 크기. (뒤에 오는 갯수만큼 메모리를 할당함. String 의 사용은 new를 사용.))\n",
    "##### int num = 100; // num이라는 변수에 int 형태의 100이라는 숫자를 넣는다. \n",
    "##### sysout (num); //num에 저장된 값을 불러온다. \n",
    "##### 변수에 하나의 값만 넣을수 있으나, 변수에 담긴 값은 또 바뀔수 있다. \n",
    "\n",
    "##### python에서도 데이터를 보관하기 위해서 메모리 할당을 요청하는 제공을 하고 있으나, 데이터 타입이 없다. R과 같다."
   ]
  },
  {
   "cell_type": "markdown",
   "id": "2e45ad79",
   "metadata": {},
   "source": [
    "###### 알파벳과 숫자의 조합으로 변수만 지정해서 넣는다. 자바는 _ 와  $를 변수의 이름으로 사용할 수 있었고, R에서는 _와 .을 사용할 수 있었다.\n",
    "###### 5라는 숫자를 보면 일단 냅다 메모리를 만든뒤, a라는 이름을 붙인다. 그리고 이 데이터도 객체로 처리한다. \n",
    "###### (=클래스로 처리한다.래퍼 클래스. 기본 자료형을 클래스로 감싸고 있다. a = new integer(5);)\n",
    "###### integer a = 5; \n",
    "###### python에서는 ; (세미콜론)을 쓰지 않는다. "
   ]
  },
  {
   "cell_type": "code",
   "execution_count": 1,
   "id": "f1c65225",
   "metadata": {},
   "outputs": [],
   "source": [
    "a = 5  \n",
    "b = 10"
   ]
  },
  {
   "cell_type": "code",
   "execution_count": 2,
   "id": "c7a550d9",
   "metadata": {},
   "outputs": [
    {
     "data": {
      "text/plain": [
       "15"
      ]
     },
     "execution_count": 2,
     "metadata": {},
     "output_type": "execute_result"
    }
   ],
   "source": [
    "a + b"
   ]
  },
  {
   "cell_type": "code",
   "execution_count": 3,
   "id": "2df66bc0",
   "metadata": {},
   "outputs": [
    {
     "ename": "SyntaxError",
     "evalue": "can't assign to literal (1725923074.py, line 2)",
     "output_type": "error",
     "traceback": [
      "\u001b[1;36m  File \u001b[1;32m\"C:\\Users\\hella\\AppData\\Local\\Temp\\ipykernel_18660\\1725923074.py\"\u001b[1;36m, line \u001b[1;32m2\u001b[0m\n\u001b[1;33m    x = 10, y = 20\u001b[0m\n\u001b[1;37m       ^\u001b[0m\n\u001b[1;31mSyntaxError\u001b[0m\u001b[1;31m:\u001b[0m can't assign to literal\n"
     ]
    }
   ],
   "source": [
    "# int num1 = 10, num2 = 20;\n",
    "x = 10, y = 20\n",
    "print (x, y)"
   ]
  },
  {
   "cell_type": "code",
   "execution_count": null,
   "id": "4fc9a037",
   "metadata": {},
   "outputs": [],
   "source": [
    "x = 10; y = 20\n",
    "print (x, y)"
   ]
  },
  {
   "cell_type": "code",
   "execution_count": null,
   "id": "02112055",
   "metadata": {},
   "outputs": [],
   "source": [
    "x, y = 365, 272\n",
    "print (x, y)"
   ]
  },
  {
   "cell_type": "code",
   "execution_count": null,
   "id": "b1803fd2",
   "metadata": {},
   "outputs": [],
   "source": [
    "x, y = y, x\n",
    "print(x,y)"
   ]
  },
  {
   "cell_type": "markdown",
   "id": "0b1a8cbb",
   "metadata": {},
   "source": [
    "# 변수명 규칙\n",
    "### - 문자, 숫자 _ 만 가능. 단, 숫자로 시작할 수 는 없다. \n",
    "### - 대/소문자를 구별한다. (NUM /= num)\n",
    "### - 예약어 (키워드) 사용 불가능. "
   ]
  },
  {
   "cell_type": "code",
   "execution_count": null,
   "id": "3d9472c2",
   "metadata": {},
   "outputs": [],
   "source": [
    "#변수 (정수)\n",
    "a = 123456789\n",
    "print (a)"
   ]
  },
  {
   "cell_type": "code",
   "execution_count": null,
   "id": "d0e6f6d3",
   "metadata": {},
   "outputs": [],
   "source": [
    "b=\"홍길동\"\n",
    "a #print(a)\n",
    "b #print(b)\n",
    "print (type(a))\n",
    "print (type(b))"
   ]
  },
  {
   "cell_type": "code",
   "execution_count": null,
   "id": "8fbcda43",
   "metadata": {},
   "outputs": [],
   "source": [
    "print (type(3.14)) #float\n",
    "print (type( 5 + 3j)) #complex\n",
    "print (type(True)) #bool. 이때 R과 java와 다르게 전체 대문자가 아닌 첫글자만 대문자를 사용한다.\n",
    "\n"
   ]
  },
  {
   "cell_type": "markdown",
   "id": "e361c20e",
   "metadata": {},
   "source": [
    "## 연산자 (+, -, *, /, %(나머지), // , * *)"
   ]
  },
  {
   "cell_type": "code",
   "execution_count": null,
   "id": "fd0a8cae",
   "metadata": {},
   "outputs": [],
   "source": [
    "a = 3+4\n",
    "print (a)"
   ]
  },
  {
   "cell_type": "code",
   "execution_count": null,
   "id": "aebb6dd2",
   "metadata": {},
   "outputs": [],
   "source": [
    "a = 3-4\n",
    "print (a)"
   ]
  },
  {
   "cell_type": "code",
   "execution_count": null,
   "id": "baaeb121",
   "metadata": {},
   "outputs": [],
   "source": [
    "a = 3*4\n",
    "print (a)"
   ]
  },
  {
   "cell_type": "code",
   "execution_count": null,
   "id": "bbdce15c",
   "metadata": {},
   "outputs": [],
   "source": [
    "a = 3/4 #나누기의 값은 실수값으로 반환\n",
    "print (a)\n",
    "print (type(a))"
   ]
  },
  {
   "cell_type": "code",
   "execution_count": null,
   "id": "a7b2fc98",
   "metadata": {},
   "outputs": [],
   "source": [
    "a = 3%4\n",
    "print (a)\n",
    "print (type(a))"
   ]
  },
  {
   "cell_type": "code",
   "execution_count": null,
   "id": "019abbe0",
   "metadata": {},
   "outputs": [],
   "source": [
    "a = 33//4 #몫 반환 연산자. \n",
    "print (a)\n",
    "print (type(a))"
   ]
  },
  {
   "cell_type": "code",
   "execution_count": null,
   "id": "143d70c8",
   "metadata": {},
   "outputs": [],
   "source": [
    "a = 2 ** 4 #2의 4승. 2^4\n",
    "print (a)\n",
    "print (type(a))"
   ]
  },
  {
   "cell_type": "code",
   "execution_count": 5,
   "id": "8637c961",
   "metadata": {},
   "outputs": [
    {
     "name": "stdout",
     "output_type": "stream",
     "text": [
      "12345678912345678912345678912345678912304567890\n"
     ]
    }
   ],
   "source": [
    "x = 12345678912345678912345678912345678912304567890\n",
    "print (x)"
   ]
  },
  {
   "cell_type": "markdown",
   "id": "a883eb15",
   "metadata": {},
   "source": [
    "## - 헥스코드"
   ]
  },
  {
   "cell_type": "code",
   "execution_count": 6,
   "id": "8ef66292",
   "metadata": {},
   "outputs": [
    {
     "name": "stdout",
     "output_type": "stream",
     "text": [
      "0xff\n",
      "0xe\n"
     ]
    }
   ],
   "source": [
    "print(hex(255))\n",
    "print(hex(14))"
   ]
  },
  {
   "cell_type": "code",
   "execution_count": 7,
   "id": "61572b0e",
   "metadata": {},
   "outputs": [
    {
     "name": "stdout",
     "output_type": "stream",
     "text": [
      "10\n"
     ]
    }
   ],
   "source": [
    "a = 0b1010\n",
    "print (a)"
   ]
  },
  {
   "cell_type": "code",
   "execution_count": 8,
   "id": "1f74ce5a",
   "metadata": {},
   "outputs": [
    {
     "name": "stdout",
     "output_type": "stream",
     "text": [
      "0.10000000000000142\n"
     ]
    }
   ],
   "source": [
    "x = 43.2 - 43.1\n",
    "print (x)"
   ]
  },
  {
   "cell_type": "markdown",
   "id": "d040ef85",
   "metadata": {},
   "source": [
    "## 문자열"
   ]
  },
  {
   "cell_type": "code",
   "execution_count": 9,
   "id": "87bd9789",
   "metadata": {},
   "outputs": [
    {
     "name": "stdout",
     "output_type": "stream",
     "text": [
      "Hello, Python\n"
     ]
    }
   ],
   "source": [
    "a = \"Hello, Python\"\n",
    "print(a)"
   ]
  },
  {
   "cell_type": "code",
   "execution_count": 10,
   "id": "c9efd935",
   "metadata": {},
   "outputs": [
    {
     "name": "stdout",
     "output_type": "stream",
     "text": [
      "hello, Python\n"
     ]
    }
   ],
   "source": [
    "a = 'hello, Python' #큰따옴표 작은따옴표 구별 X. 교차는 안된다. \n",
    "print(a)"
   ]
  },
  {
   "cell_type": "code",
   "execution_count": 11,
   "id": "6d730966",
   "metadata": {},
   "outputs": [],
   "source": [
    "str = \"\"\"\n",
    "내일 하나 그러나 벌레는 밤이 오는 잠, 이웃 거외다. 이국 많은 걱정도 둘 마리아 봅니다.\n",
    "\n",
    "아름다운 불러 어머님, 쓸쓸함과 덮어 별 많은 버리었습니다. 없이 멀리 릴케 까닭입니다. \n",
    "소녀들의 오면 봄이 봅니다. 하나에 차 패, 풀이 가을로 노새, 새워 불러 책상을 거외다.\n",
    "\"\"\""
   ]
  },
  {
   "cell_type": "code",
   "execution_count": 12,
   "id": "54a62dff",
   "metadata": {},
   "outputs": [
    {
     "name": "stdout",
     "output_type": "stream",
     "text": [
      "5\n"
     ]
    }
   ],
   "source": [
    "int = 5\n",
    "print(int) #int같은 이름을 변수 이름으로 사용이 가능하나, 권장하지는 않는다. 헷갈림. "
   ]
  },
  {
   "cell_type": "code",
   "execution_count": 14,
   "id": "46bc5eb0",
   "metadata": {},
   "outputs": [
    {
     "name": "stdout",
     "output_type": "stream",
     "text": [
      "Python\n",
      "Py thon\n",
      "Python\n"
     ]
    }
   ],
   "source": [
    "print(\"Py\" + \"thon\")\n",
    "print(\"Py\" , \"thon\")\n",
    "print(\"Py\"\"thon\")"
   ]
  },
  {
   "cell_type": "code",
   "execution_count": 15,
   "id": "85c45571",
   "metadata": {},
   "outputs": [
    {
     "name": "stdout",
     "output_type": "stream",
     "text": [
      "Hello.World!!!\n"
     ]
    }
   ],
   "source": [
    "hello = \"Hello.\"\n",
    "world = \"World!!!\"\n",
    "helloWorld = hello + world\n",
    "print(helloWorld)"
   ]
  },
  {
   "cell_type": "code",
   "execution_count": 16,
   "id": "0ef8f213",
   "metadata": {},
   "outputs": [
    {
     "ename": "TypeError",
     "evalue": "can only concatenate str (not \"int\") to str",
     "output_type": "error",
     "traceback": [
      "\u001b[1;31m---------------------------------------------------------------------------\u001b[0m",
      "\u001b[1;31mTypeError\u001b[0m                                 Traceback (most recent call last)",
      "\u001b[1;32m~\\AppData\\Local\\Temp\\ipykernel_18660\\2963847434.py\u001b[0m in \u001b[0;36m<module>\u001b[1;34m\u001b[0m\n\u001b[0;32m      1\u001b[0m \u001b[0mage\u001b[0m \u001b[1;33m=\u001b[0m \u001b[1;36m25\u001b[0m\u001b[1;33m\u001b[0m\u001b[1;33m\u001b[0m\u001b[0m\n\u001b[0;32m      2\u001b[0m \u001b[0mstr\u001b[0m \u001b[1;33m=\u001b[0m \u001b[1;34m\"안녕하세요\"\u001b[0m\u001b[1;33m\u001b[0m\u001b[1;33m\u001b[0m\u001b[0m\n\u001b[1;32m----> 3\u001b[1;33m \u001b[0mprint\u001b[0m\u001b[1;33m(\u001b[0m\u001b[0mstr\u001b[0m \u001b[1;33m+\u001b[0m \u001b[0mage\u001b[0m\u001b[1;33m)\u001b[0m\u001b[1;33m\u001b[0m\u001b[1;33m\u001b[0m\u001b[0m\n\u001b[0m",
      "\u001b[1;31mTypeError\u001b[0m: can only concatenate str (not \"int\") to str"
     ]
    }
   ],
   "source": [
    "age = 25\n",
    "str = \"안녕하세요\" \n",
    "print(str + age) #문자열+숫자 -> 허용하지 않는다."
   ]
  },
  {
   "cell_type": "code",
   "execution_count": 17,
   "id": "70b685a2",
   "metadata": {},
   "outputs": [
    {
     "name": "stdout",
     "output_type": "stream",
     "text": [
      "python python python \n"
     ]
    }
   ],
   "source": [
    "print('python ' * 3) #문자열 반복"
   ]
  },
  {
   "cell_type": "code",
   "execution_count": 19,
   "id": "b0810a41",
   "metadata": {},
   "outputs": [
    {
     "name": "stdout",
     "output_type": "stream",
     "text": [
      "Good M\n",
      "Morning\n"
     ]
    }
   ],
   "source": [
    "s = 'Good Morning'\n",
    "print (s[0:6]) #R에서의 c함수 (combine함수) 같은 느낌. 근데 R은 시작값이 1이었고 얘는 0.\n",
    "print (s[5:12])"
   ]
  },
  {
   "cell_type": "code",
   "execution_count": 20,
   "id": "23e77755",
   "metadata": {},
   "outputs": [
    {
     "name": "stdout",
     "output_type": "stream",
     "text": [
      "Good\n"
     ]
    }
   ],
   "source": [
    "a = s[:4] # a = s[0:4]\n",
    "print (a)"
   ]
  },
  {
   "cell_type": "code",
   "execution_count": 23,
   "id": "3b60f100",
   "metadata": {},
   "outputs": [
    {
     "name": "stdout",
     "output_type": "stream",
     "text": [
      "Morning\n"
     ]
    }
   ],
   "source": [
    "a = s[5: ] # a = s[5:12]\n",
    "print (a)"
   ]
  },
  {
   "cell_type": "code",
   "execution_count": 24,
   "id": "05a6136a",
   "metadata": {},
   "outputs": [
    {
     "name": "stdout",
     "output_type": "stream",
     "text": [
      "ing\n"
     ]
    }
   ],
   "source": [
    "a = s[-3:] # a = s[10:12]\n",
    "print (a)"
   ]
  },
  {
   "cell_type": "code",
   "execution_count": 25,
   "id": "15c418d2",
   "metadata": {},
   "outputs": [
    {
     "name": "stdout",
     "output_type": "stream",
     "text": [
      "Go onn\n"
     ]
    }
   ],
   "source": [
    "a = s[::2] #첫 콜론은 시작, 두번째 클론은 끝, 마지막 클론은 건너뛰는 수. \n",
    "print (a) #두칸씩 카운팅 한 값이 출력된다."
   ]
  },
  {
   "cell_type": "code",
   "execution_count": 26,
   "id": "bc7006d4",
   "metadata": {},
   "outputs": [
    {
     "name": "stdout",
     "output_type": "stream",
     "text": [
      "o\n"
     ]
    }
   ],
   "source": [
    "a = s[2] #특정 인덱스 위치 문자 변환. 파이썬의 index는 0부터.\n",
    "print (a)"
   ]
  },
  {
   "cell_type": "code",
   "execution_count": 28,
   "id": "43633e1f",
   "metadata": {},
   "outputs": [
    {
     "name": "stdout",
     "output_type": "stream",
     "text": [
      "True\n",
      "False\n",
      "True\n",
      "False\n"
     ]
    }
   ],
   "source": [
    "print('M' in s) #s 라는 문자열 안에 'M'이 있는지 검색해준다. 반환값은 T/F\n",
    "print('a' in s)\n",
    "print('Good' in s)\n",
    "print('morning' in s) #대소문자도 구별해줌. "
   ]
  },
  {
   "cell_type": "code",
   "execution_count": 29,
   "id": "9cdf421b",
   "metadata": {},
   "outputs": [
    {
     "name": "stdout",
     "output_type": "stream",
     "text": [
      "12\n"
     ]
    }
   ],
   "source": [
    "print(len(s)) #문자열 길이 재준다. 파이썬은 length가 아니고 len"
   ]
  },
  {
   "cell_type": "code",
   "execution_count": 31,
   "id": "6d6eb4bf",
   "metadata": {},
   "outputs": [
    {
     "data": {
      "text/plain": [
       "4"
      ]
     },
     "execution_count": 31,
     "metadata": {},
     "output_type": "execute_result"
    }
   ],
   "source": [
    "#str = 'how do you do. how do you do'\n",
    "#str.count('do')\n",
    "'how do you do. how do you do'.count('do')"
   ]
  },
  {
   "cell_type": "code",
   "execution_count": null,
   "id": "c4d3cfa3",
   "metadata": {},
   "outputs": [],
   "source": []
  }
 ],
 "metadata": {
  "kernelspec": {
   "display_name": "Python [conda env:tf_cpu] *",
   "language": "python",
   "name": "conda-env-tf_cpu-py"
  },
  "language_info": {
   "codemirror_mode": {
    "name": "ipython",
    "version": 3
   },
   "file_extension": ".py",
   "mimetype": "text/x-python",
   "name": "python",
   "nbconvert_exporter": "python",
   "pygments_lexer": "ipython3",
   "version": "3.7.13"
  }
 },
 "nbformat": 4,
 "nbformat_minor": 5
}
