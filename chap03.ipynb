{
 "cells": [
  {
   "cell_type": "markdown",
   "id": "e6b7f1ee",
   "metadata": {},
   "source": [
    "# 리스트(list)\n",
    "### - 리스트 저장 형태\n",
    "###### 배열은 아니지만 동일한 형태의 데이터를 담는 자료 구조. "
   ]
  },
  {
   "cell_type": "code",
   "execution_count": 2,
   "id": "92353bfd",
   "metadata": {},
   "outputs": [
    {
     "name": "stdout",
     "output_type": "stream",
     "text": [
      "['홍길동', '강감찬', '이순신']\n",
      "<class 'list'>\n"
     ]
    }
   ],
   "source": [
    "a = ['홍길동', '강감찬', '이순신'] #대괄호 안에 동일한 형식의 데이터를 담고, 변수로 지정한다. R의 벡터같네요. \n",
    "print (a) \n",
    "print (type(a)) #list라고 부름. "
   ]
  },
  {
   "cell_type": "code",
   "execution_count": 6,
   "id": "2d27760c",
   "metadata": {},
   "outputs": [
    {
     "name": "stdout",
     "output_type": "stream",
     "text": [
      "홍길동\n",
      "강감찬\n",
      "이순신\n"
     ]
    }
   ],
   "source": [
    "#데이터 접근 \n",
    "print (a[0])\n",
    "print (a[1])\n",
    "print (a[2])\n",
    "# print (a[3]) IndexError  발생"
   ]
  },
  {
   "cell_type": "code",
   "execution_count": 12,
   "id": "98805575",
   "metadata": {},
   "outputs": [
    {
     "name": "stdout",
     "output_type": "stream",
     "text": [
      "[1, 2, 3, 4, 5]\n",
      "[1, 2, 3, 4, 5]\n",
      "[6, 7, 8, 9, 10]\n",
      "[4, 5, 6]\n"
     ]
    }
   ],
   "source": [
    "#슬라이싱 기능\n",
    "x = [1, 2, 3, 4, 5, 6, 7, 8, 9, 10]\n",
    "print (x[0:5])\n",
    "print (x[ :5]) # print (x[0:5])와 동일.\n",
    "print (x[5: ])\n",
    "print (x[3:6])\n",
    "# print (x[3:6, 7]) TypeError.  "
   ]
  },
  {
   "cell_type": "code",
   "execution_count": 13,
   "id": "9fb3f6be",
   "metadata": {},
   "outputs": [
    {
     "name": "stdout",
     "output_type": "stream",
     "text": [
      "[1, 2, 3, 4, 5, 6, 7, 8, 9, 10]\n"
     ]
    }
   ],
   "source": [
    "x = [1, 2, 3, 4, 5]\n",
    "y = [6, 7, 8, 9, 10]\n",
    "print (x + y) #숫자형 데이터의 더하기 되나요? 어떻게 리턴하나요? => 결합기능으로 동작. "
   ]
  },
  {
   "cell_type": "code",
   "execution_count": 14,
   "id": "5453a6f9",
   "metadata": {},
   "outputs": [
    {
     "name": "stdout",
     "output_type": "stream",
     "text": [
      "[1, 2, 30, 4, 5]\n",
      "5\n"
     ]
    }
   ],
   "source": [
    "#특정 위치에 있는 데이터를 변경\n",
    "x = [1, 2, 3, 4, 5]\n",
    "x[2] = 30 #index 2번 데이터 변경. \n",
    "print(x)\n",
    "print (len(x))"
   ]
  },
  {
   "cell_type": "code",
   "execution_count": 15,
   "id": "9489d702",
   "metadata": {},
   "outputs": [
    {
     "name": "stdout",
     "output_type": "stream",
     "text": [
      "[1, 2, 4, 5]\n"
     ]
    }
   ],
   "source": [
    "#리스트에서 항목 삭제하기.\n",
    "del x[2] #30삭제. \n",
    "print (x)"
   ]
  },
  {
   "cell_type": "code",
   "execution_count": 16,
   "id": "d74a0bf2",
   "metadata": {},
   "outputs": [
    {
     "name": "stdout",
     "output_type": "stream",
     "text": [
      "[1, 3, 5, 7]\n"
     ]
    }
   ],
   "source": [
    "# 리스트 끝에 데이터 추가\n",
    "x = [1, 3, 5]\n",
    "x.append(7)\n",
    "print (x)"
   ]
  },
  {
   "cell_type": "code",
   "execution_count": 17,
   "id": "9ea7e439",
   "metadata": {},
   "outputs": [
    {
     "name": "stdout",
     "output_type": "stream",
     "text": [
      "[1, 3, 5, 7, 9, 11, 13]\n"
     ]
    }
   ],
   "source": [
    "#기존 리스트에 다른 리스트 이어 붙임. \n",
    "y = [9, 11, 13]\n",
    "x.extend(y)\n",
    "print (x)"
   ]
  },
  {
   "cell_type": "code",
   "execution_count": 21,
   "id": "4752f693",
   "metadata": {},
   "outputs": [
    {
     "name": "stdout",
     "output_type": "stream",
     "text": [
      "[1, 2, 3, 5, 7, 9, 11, 13]\n"
     ]
    }
   ],
   "source": [
    "# 첨자로 명시한 곳에 새 데이터 넣기. \n",
    "x.insert(1, 2) #index 1번에 2라는 데이터 넣기. \n",
    "print (x)"
   ]
  },
  {
   "cell_type": "code",
   "execution_count": 22,
   "id": "6296d6a8",
   "metadata": {},
   "outputs": [
    {
     "name": "stdout",
     "output_type": "stream",
     "text": [
      "[1, 2, 3, 5, 7, 9, 13]\n"
     ]
    }
   ],
   "source": [
    "# 데이터 삭제.\n",
    "x.remove(11) #인덱스가 아닌 데이터 값을 지정해줘야 한다. 아니면 에러. \n",
    "print (x)\n",
    "#x.remove(11) #위에서 지웠기 때문에 에러가 발생한다. ValueError"
   ]
  },
  {
   "cell_type": "code",
   "execution_count": 25,
   "id": "390d70ed",
   "metadata": {},
   "outputs": [
    {
     "name": "stdout",
     "output_type": "stream",
     "text": [
      "[1, 3, 5, 7, 9, 13]\n"
     ]
    }
   ],
   "source": [
    "# 지정된 인덱스 값에 있는 데이터 제거.\n",
    "x.pop(1) #1번 인덱스 값 제거. \n",
    "print(x) #사라진 2. "
   ]
  },
  {
   "cell_type": "code",
   "execution_count": 28,
   "id": "a93a2490",
   "metadata": {},
   "outputs": [
    {
     "name": "stdout",
     "output_type": "stream",
     "text": [
      "2\n"
     ]
    }
   ],
   "source": [
    "# 지정한 데이터 인덱스 값 리턴. \n",
    "x = ['abc', 'def', 'ghi']\n",
    "print(x.index('ghi')) #인덱스 값 리턴\n",
    "# print(x.index('xyz'))  ValueError. 없는건 못찾는다. "
   ]
  },
  {
   "cell_type": "code",
   "execution_count": 29,
   "id": "41b70830",
   "metadata": {},
   "outputs": [
    {
     "name": "stdout",
     "output_type": "stream",
     "text": [
      "2\n"
     ]
    }
   ],
   "source": [
    "# 지정한 매개변수가 list내에 있는 갯수 반환.\n",
    "x = [1, 100, 2, 200, 3, 300, 4, 100]\n",
    "print (x.count(100))"
   ]
  },
  {
   "cell_type": "code",
   "execution_count": 30,
   "id": "3ac1905c",
   "metadata": {},
   "outputs": [
    {
     "name": "stdout",
     "output_type": "stream",
     "text": [
      "[1, 2, 3, 4, 5, 6, 7, 8]\n"
     ]
    }
   ],
   "source": [
    "# 정렬\n",
    "x = [7, 5, 8, 3, 2, 1, 4, 6]\n",
    "x.sort()\n",
    "print(x) #리턴만 해주는게 아니라 원래 데이터도 정렬해준다. "
   ]
  },
  {
   "cell_type": "code",
   "execution_count": 31,
   "id": "ac2f3200",
   "metadata": {},
   "outputs": [
    {
     "name": "stdout",
     "output_type": "stream",
     "text": [
      "[8, 7, 6, 5, 4, 3, 2, 1]\n"
     ]
    }
   ],
   "source": [
    "# 정렬 순서.\n",
    "x.sort(reverse=True)\n",
    "print(x)"
   ]
  },
  {
   "cell_type": "code",
   "execution_count": 32,
   "id": "4991c6cf",
   "metadata": {},
   "outputs": [
    {
     "name": "stdout",
     "output_type": "stream",
     "text": [
      "[6, 4, 1, 2, 3, 8, 5, 7]\n"
     ]
    }
   ],
   "source": [
    "# 앞뒤를 바꾸는 정렬. \n",
    "x = [7, 5, 8, 3, 2, 1, 4, 6]\n",
    "x.reverse()\n",
    "print(x)"
   ]
  },
  {
   "cell_type": "markdown",
   "id": "30149561",
   "metadata": {},
   "source": [
    "# 튜플(Tuple)"
   ]
  },
  {
   "cell_type": "code",
   "execution_count": 34,
   "id": "4e9ccd3b",
   "metadata": {},
   "outputs": [
    {
     "name": "stdout",
     "output_type": "stream",
     "text": [
      "(1, 2, 3)\n"
     ]
    },
    {
     "data": {
      "text/plain": [
       "tuple"
      ]
     },
     "execution_count": 34,
     "metadata": {},
     "output_type": "execute_result"
    }
   ],
   "source": [
    "x = (1, 2, 3)\n",
    "print(x)\n",
    "type(x)"
   ]
  },
  {
   "cell_type": "code",
   "execution_count": 36,
   "id": "750456c6",
   "metadata": {},
   "outputs": [
    {
     "name": "stdout",
     "output_type": "stream",
     "text": [
      "(1, 2, 3, 4)\n"
     ]
    },
    {
     "data": {
      "text/plain": [
       "tuple"
      ]
     },
     "execution_count": 36,
     "metadata": {},
     "output_type": "execute_result"
    }
   ],
   "source": [
    "x = 1, 2, 3, 4 #소괄호가 없어도 튜플로 반환한다.\n",
    "print(x)\n",
    "type(x)"
   ]
  },
  {
   "cell_type": "code",
   "execution_count": 40,
   "id": "a903125c",
   "metadata": {},
   "outputs": [
    {
     "name": "stdout",
     "output_type": "stream",
     "text": [
      "1\n"
     ]
    },
    {
     "data": {
      "text/plain": [
       "int"
      ]
     },
     "execution_count": 40,
     "metadata": {},
     "output_type": "execute_result"
    }
   ],
   "source": [
    "x = (1)\n",
    "print(x) #튜플의 결과는 소괄호와 같이 나와야 하는데 int형태로 출력된다.\n",
    "type(x) #소괄호를 열고 닫는다고 해서 튜플이 되는것은 아니다. "
   ]
  },
  {
   "cell_type": "code",
   "execution_count": 41,
   "id": "41cbb8d8",
   "metadata": {},
   "outputs": [
    {
     "name": "stdout",
     "output_type": "stream",
     "text": [
      "(1,)\n"
     ]
    },
    {
     "data": {
      "text/plain": [
       "tuple"
      ]
     },
     "execution_count": 41,
     "metadata": {},
     "output_type": "execute_result"
    }
   ],
   "source": [
    "x = (1,)\n",
    "print(x) \n",
    "type(x) "
   ]
  },
  {
   "cell_type": "code",
   "execution_count": 48,
   "id": "6f55be25",
   "metadata": {},
   "outputs": [
    {
     "name": "stdout",
     "output_type": "stream",
     "text": [
      "(3, 4, 5)\n",
      "(1, 2)\n",
      "(5, 6)\n",
      "5\n"
     ]
    }
   ],
   "source": [
    "x = (1, 2, 3, 4, 5, 6)\n",
    "print(x[2:5]) #슬라이싱.\n",
    "print(x[ :2])\n",
    "print(x[4: ])\n",
    "print(x[4])"
   ]
  },
  {
   "cell_type": "code",
   "execution_count": 49,
   "id": "a3539817",
   "metadata": {},
   "outputs": [
    {
     "data": {
      "text/plain": [
       "(1, 2, 3, 4, 5, 6)"
      ]
     },
     "execution_count": 49,
     "metadata": {},
     "output_type": "execute_result"
    }
   ],
   "source": [
    "# + 연산자를 통한 튜플간의 결합이 가능. \n",
    "m = (1, 2, 3)\n",
    "n = (4, 5, 6)\n",
    "\n",
    "m + n"
   ]
  },
  {
   "cell_type": "code",
   "execution_count": 50,
   "id": "f3ce0c39",
   "metadata": {},
   "outputs": [
    {
     "name": "stdout",
     "output_type": "stream",
     "text": [
      "2\n"
     ]
    },
    {
     "ename": "TypeError",
     "evalue": "'tuple' object does not support item assignment",
     "output_type": "error",
     "traceback": [
      "\u001b[1;31m---------------------------------------------------------------------------\u001b[0m",
      "\u001b[1;31mTypeError\u001b[0m                                 Traceback (most recent call last)",
      "\u001b[1;32m~\\AppData\\Local\\Temp\\ipykernel_19160\\1110696123.py\u001b[0m in \u001b[0;36m<module>\u001b[1;34m\u001b[0m\n\u001b[0;32m      1\u001b[0m \u001b[0mprint\u001b[0m\u001b[1;33m(\u001b[0m\u001b[0mm\u001b[0m\u001b[1;33m[\u001b[0m\u001b[1;36m1\u001b[0m\u001b[1;33m]\u001b[0m\u001b[1;33m)\u001b[0m\u001b[1;33m\u001b[0m\u001b[1;33m\u001b[0m\u001b[0m\n\u001b[1;32m----> 2\u001b[1;33m \u001b[0mm\u001b[0m\u001b[1;33m[\u001b[0m\u001b[1;36m1\u001b[0m\u001b[1;33m]\u001b[0m \u001b[1;33m=\u001b[0m \u001b[1;36m20\u001b[0m\u001b[1;33m\u001b[0m\u001b[1;33m\u001b[0m\u001b[0m\n\u001b[0m",
      "\u001b[1;31mTypeError\u001b[0m: 'tuple' object does not support item assignment"
     ]
    }
   ],
   "source": [
    "print(m[1]) \n",
    "m[1] = 20 #TypeError.TypeError: 'tuple' object does not support item assignment\n",
    "#한번 데이터가 저장되면 수정이 불가능하다. "
   ]
  },
  {
   "cell_type": "code",
   "execution_count": 51,
   "id": "fce64b59",
   "metadata": {},
   "outputs": [
    {
     "ename": "AttributeError",
     "evalue": "'tuple' object has no attribute 'append'",
     "output_type": "error",
     "traceback": [
      "\u001b[1;31m---------------------------------------------------------------------------\u001b[0m",
      "\u001b[1;31mAttributeError\u001b[0m                            Traceback (most recent call last)",
      "\u001b[1;32m~\\AppData\\Local\\Temp\\ipykernel_19160\\225898522.py\u001b[0m in \u001b[0;36m<module>\u001b[1;34m\u001b[0m\n\u001b[0;32m      1\u001b[0m \u001b[0mm\u001b[0m \u001b[1;33m=\u001b[0m \u001b[1;33m(\u001b[0m\u001b[1;36m1\u001b[0m\u001b[1;33m,\u001b[0m\u001b[1;36m2\u001b[0m\u001b[1;33m,\u001b[0m\u001b[1;36m3\u001b[0m\u001b[1;33m)\u001b[0m\u001b[1;33m\u001b[0m\u001b[1;33m\u001b[0m\u001b[0m\n\u001b[1;32m----> 2\u001b[1;33m \u001b[0mm\u001b[0m\u001b[1;33m.\u001b[0m\u001b[0mappend\u001b[0m\u001b[1;33m(\u001b[0m\u001b[1;36m4\u001b[0m\u001b[1;33m)\u001b[0m\u001b[1;33m\u001b[0m\u001b[1;33m\u001b[0m\u001b[0m\n\u001b[0m",
      "\u001b[1;31mAttributeError\u001b[0m: 'tuple' object has no attribute 'append'"
     ]
    }
   ],
   "source": [
    "m = (1,2,3)\n",
    "m.append(4) #AttributeError. AttributeError: 'tuple' object has no attribute 'append'\n",
    "#매서드가 없다 => 튜플은 값을 변경할 수 없기 때문에. "
   ]
  },
  {
   "cell_type": "markdown",
   "id": "881cc343",
   "metadata": {},
   "source": [
    "### 튜플 제공 매서드"
   ]
  },
  {
   "cell_type": "code",
   "execution_count": 57,
   "id": "c6c89301",
   "metadata": {},
   "outputs": [
    {
     "name": "stdout",
     "output_type": "stream",
     "text": [
      "2\n"
     ]
    }
   ],
   "source": [
    "x = ('abc', 'def', 'ghi')\n",
    "print(x.index('ghi'))"
   ]
  },
  {
   "cell_type": "code",
   "execution_count": 56,
   "id": "be3e8917",
   "metadata": {},
   "outputs": [
    {
     "name": "stdout",
     "output_type": "stream",
     "text": [
      "2\n"
     ]
    }
   ],
   "source": [
    "x = (1, 100, 2, 200, 3, 300, 4, 100)\n",
    "print (x.count(100))"
   ]
  },
  {
   "cell_type": "code",
   "execution_count": 58,
   "id": "ca6f8190",
   "metadata": {},
   "outputs": [
    {
     "name": "stdout",
     "output_type": "stream",
     "text": [
      "(1, 2, 3)\n"
     ]
    }
   ],
   "source": [
    "# 튜플 패킹(tuple packing) :  여러가지 데이터를 튜플로 묶는 것. \n",
    "x = 1,2,3\n",
    "print (x)"
   ]
  },
  {
   "cell_type": "code",
   "execution_count": 61,
   "id": "a70b6c0c",
   "metadata": {},
   "outputs": [
    {
     "name": "stdout",
     "output_type": "stream",
     "text": [
      "Seoul\n",
      "37.541\n",
      "126.986\n"
     ]
    }
   ],
   "source": [
    "# 튜플 언패킹(tuple unpacking) : 각 요소를 여러개의 변수에 할당하는 것. \n",
    "data = 'Seoul', 37.541, 126.986 #지역/경도/위도\n",
    "city, latitude, longitude = data\n",
    "print(city)\n",
    "print(latitude)\n",
    "print(longitude)"
   ]
  },
  {
   "cell_type": "markdown",
   "id": "9220173d",
   "metadata": {},
   "source": [
    "## 딕셔너리 (dictionary)"
   ]
  },
  {
   "cell_type": "code",
   "execution_count": 63,
   "id": "3f620ce4",
   "metadata": {},
   "outputs": [
    {
     "name": "stdout",
     "output_type": "stream",
     "text": [
      "{'애플': 'www.apple.com', '네이버': 'www.naver.com', '파이썬': 'www.python.org'}\n"
     ]
    },
    {
     "data": {
      "text/plain": [
       "dict"
      ]
     },
     "execution_count": 63,
     "metadata": {},
     "output_type": "execute_result"
    }
   ],
   "source": [
    "dic = {'애플' : 'www.apple.com', '네이버' : 'www.naver.com', '파이썬' : 'www.python.org'}\n",
    "print(dic)\n",
    "type(dic)"
   ]
  },
  {
   "cell_type": "code",
   "execution_count": 66,
   "id": "4a2d77db",
   "metadata": {},
   "outputs": [
    {
     "name": "stdout",
     "output_type": "stream",
     "text": [
      "www.naver.com\n"
     ]
    }
   ],
   "source": [
    "#데이터 접근 방법\n",
    "\n",
    "print(dic['네이버']) #key값으로 접근. 이때 대괄호로 접근한다. \n",
    "# print(dic[':'])  KeyError. 슬라이싱은 미지원(리스트와 튜플만 지원) "
   ]
  },
  {
   "cell_type": "code",
   "execution_count": 68,
   "id": "509b722a",
   "metadata": {},
   "outputs": [
    {
     "name": "stdout",
     "output_type": "stream",
     "text": [
      "<class 'dict'>\n",
      "{'애플': 'www.apple.com', '네이버': 'www.naver.com', '파이썬': 'www.python.org'}\n"
     ]
    }
   ],
   "source": [
    "#데이터 삽입\n",
    "dic2 = {} #변수를 선언하면서 자료형만 초기화 해줌.\n",
    "print(type(dic2))\n",
    "\n",
    "dic2['애플'] = 'www.apple.com' \n",
    "#데이터 삽입. key값은 변수 뒤에 대괄호 안에 넣고, value는 = 을 한 뒤에 넣기. \n",
    "dic2['네이버'] = 'www.naver.com'\n",
    "dic2['파이썬'] = 'www.python.org'\n",
    "\n",
    "print(dic2)"
   ]
  },
  {
   "cell_type": "markdown",
   "id": "5d888eef",
   "metadata": {},
   "source": [
    "### - 딕셔너리 제공 메서드"
   ]
  },
  {
   "cell_type": "code",
   "execution_count": 72,
   "id": "ef4c5c00",
   "metadata": {},
   "outputs": [
    {
     "name": "stdout",
     "output_type": "stream",
     "text": [
      "dict_keys(['애플', '네이버', '파이썬'])\n"
     ]
    }
   ],
   "source": [
    "#키 값만 출력. \n",
    "print(dic.keys()) #이때, 반환은 list."
   ]
  },
  {
   "cell_type": "code",
   "execution_count": 73,
   "id": "c83a0903",
   "metadata": {},
   "outputs": [
    {
     "name": "stdout",
     "output_type": "stream",
     "text": [
      "dict_values(['www.apple.com', 'www.naver.com', 'www.python.org'])\n"
     ]
    }
   ],
   "source": [
    "#value값만 출력\n",
    "\n",
    "print(dic.values()) #이때, 반환은 list"
   ]
  },
  {
   "cell_type": "code",
   "execution_count": 74,
   "id": "bbbdb562",
   "metadata": {},
   "outputs": [
    {
     "name": "stdout",
     "output_type": "stream",
     "text": [
      "dict_items([('애플', 'www.apple.com'), ('네이버', 'www.naver.com'), ('파이썬', 'www.python.org')])\n"
     ]
    }
   ],
   "source": [
    "#key, vlaue값 한번에 보기\n",
    "print(dic.items())"
   ]
  },
  {
   "cell_type": "code",
   "execution_count": 77,
   "id": "7ac7f80d",
   "metadata": {},
   "outputs": [
    {
     "name": "stdout",
     "output_type": "stream",
     "text": [
      "True\n",
      "False\n"
     ]
    }
   ],
   "source": [
    "#in 연산자. -> 검색용도\n",
    "print('애플' in dic.keys()) #검색해서 있으면 T, 없으면 F로 반환된다. \n",
    "print('다음' in dic.keys())"
   ]
  },
  {
   "cell_type": "code",
   "execution_count": 78,
   "id": "0bc24e0d",
   "metadata": {},
   "outputs": [
    {
     "name": "stdout",
     "output_type": "stream",
     "text": [
      "True\n"
     ]
    }
   ],
   "source": [
    "#in 연산자.\n",
    "print('www.naver.com' in dic.values())"
   ]
  },
  {
   "cell_type": "code",
   "execution_count": 79,
   "id": "0ecbdc98",
   "metadata": {},
   "outputs": [
    {
     "name": "stdout",
     "output_type": "stream",
     "text": [
      "www.apple.com\n",
      "{'네이버': 'www.naver.com', '파이썬': 'www.python.org'}\n"
     ]
    }
   ],
   "source": [
    "#데이터 제거\n",
    "print(dic.pop('애플')) #꺼내는 메서드 pop. 제거 후 내 안에 다시 넣기. \n",
    "#이때, key값으로 넣어야 삭제가 제대로 된다. 그리고 리턴만 되는거 아니고 찐삭제. \n",
    "print(dic)"
   ]
  },
  {
   "cell_type": "code",
   "execution_count": 80,
   "id": "60a5bf69",
   "metadata": {},
   "outputs": [
    {
     "name": "stdout",
     "output_type": "stream",
     "text": [
      "{}\n"
     ]
    }
   ],
   "source": [
    "#데이터 전체 삭제\n",
    "dic.clear()\n",
    "print(dic)"
   ]
  },
  {
   "cell_type": "code",
   "execution_count": null,
   "id": "fc43d2c7",
   "metadata": {},
   "outputs": [],
   "source": []
  }
 ],
 "metadata": {
  "kernelspec": {
   "display_name": "Python 3 (ipykernel)",
   "language": "python",
   "name": "python3"
  },
  "language_info": {
   "codemirror_mode": {
    "name": "ipython",
    "version": 3
   },
   "file_extension": ".py",
   "mimetype": "text/x-python",
   "name": "python",
   "nbconvert_exporter": "python",
   "pygments_lexer": "ipython3",
   "version": "3.7.13"
  }
 },
 "nbformat": 4,
 "nbformat_minor": 5
}
