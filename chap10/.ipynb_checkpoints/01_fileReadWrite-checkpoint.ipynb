{
 "cells": [
  {
   "cell_type": "code",
   "execution_count": 1,
   "id": "07cc29ba",
   "metadata": {},
   "outputs": [],
   "source": [
    "# file에 write하기. \n",
    "\n",
    "# 스트림(stream)이란 실제의 입력이나 출력이 표현된 데이터의 이상화된 흐름을 의미. \n",
    "# 즉, 스트림은 운영체제에 의해 생성되는 가상의 연결 고리를 의미하며, 중간 매개자 역할을 합니다.\n",
    "\n",
    "# 여기선 파일이 데이터를 주고받을수 있는 연결 통로를 스트림이라고 한다. \n",
    "\n",
    "# 프로그램에 파일을 저장하려면 출력스트림을 연결하고, 읽어오고 싶으면 입력 스트림을 만들어줘야 한다. 기준은 프로그램. \n",
    "# 프로그램의 입장에서 봤을때를 기준으로 한다.\n",
    "\n",
    "# 파일 열기. open() 함수. 매개변수로 해당 데이터를 전달받게끔 되어있다. \n",
    "\n",
    "file = open('test.txt' , 'wt') # 출력 스트림. 쓰기용(w) 텍스트모드(t). 디폴트 값은 읽기용(r) 텍스트모드(t). 이때, w나 r만 쓰면 자동적으로 뒤에 t가 붙는다\n",
    "file.write(\"hello\")  # 출력 기능\n",
    "file.close()  # hello. 10byte 할당 되어있음. 근데 속성 보면 5byte 할당 되어져 있다. windows운영체제는 영어를 1byte로 하기 때문에.\n"
   ]
  },
  {
   "cell_type": "code",
   "execution_count": 2,
   "id": "a3b3341a",
   "metadata": {},
   "outputs": [
    {
     "name": "stdout",
     "output_type": "stream",
     "text": [
      "hello\n"
     ]
    }
   ],
   "source": [
    "# file에서 데이터 읽어오기\n",
    "\n",
    "file = open('test.txt', 'rt')  #test.txt 읽어오기. read only, 텍스트모드로. \n",
    "str = file.read()\n",
    "print(str)\n",
    "file.close()"
   ]
  },
  {
   "cell_type": "code",
   "execution_count": null,
   "id": "c1c17063",
   "metadata": {},
   "outputs": [],
   "source": []
  }
 ],
 "metadata": {
  "kernelspec": {
   "display_name": "Python [conda env:tf_cpu] *",
   "language": "python",
   "name": "conda-env-tf_cpu-py"
  },
  "language_info": {
   "codemirror_mode": {
    "name": "ipython",
    "version": 3
   },
   "file_extension": ".py",
   "mimetype": "text/x-python",
   "name": "python",
   "nbconvert_exporter": "python",
   "pygments_lexer": "ipython3",
   "version": "3.7.13"
  }
 },
 "nbformat": 4,
 "nbformat_minor": 5
}
