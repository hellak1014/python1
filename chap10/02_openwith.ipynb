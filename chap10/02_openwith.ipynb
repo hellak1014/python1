{
 "cells": [
  {
   "cell_type": "code",
   "execution_count": 1,
   "id": "844663f7",
   "metadata": {},
   "outputs": [],
   "source": [
    "# file = open('test.txt', 'wt')\n",
    "\n",
    "with open('test.txt', 'w+t') as file:\n",
    "    file.write('python')    # w해서 write할때, 기존에 파일이 있으면 그 기존 파일의 내용을 모두 삭제하며 스트림 연결한다. \n",
    "    "
   ]
  },
  {
   "cell_type": "code",
   "execution_count": 2,
   "id": "07280770",
   "metadata": {},
   "outputs": [],
   "source": [
    "with open('test.txt', 'a+t') as file: # 기존 데이터 뒤에 추가하는 경우는 a를 사용한다. \n",
    "    file.write(\". World.\")"
   ]
  },
  {
   "cell_type": "code",
   "execution_count": 3,
   "id": "dc80aa74",
   "metadata": {},
   "outputs": [
    {
     "name": "stdout",
     "output_type": "stream",
     "text": [
      "python. World.\n"
     ]
    }
   ],
   "source": [
    "with open('test.txt', 'r+t') as file:   # read only의 성향이 더 강하다. read + text. 근데 w로 해도 문제는 없다\n",
    "    str = file.read()\n",
    "    print(str)"
   ]
  },
  {
   "cell_type": "markdown",
   "id": "09e3eaf4",
   "metadata": {},
   "source": [
    "### 텍스트 파일 읽기 / 쓰기\n",
    "##### 1. 문자열을 담은 리스트를 파일에 쓰는 writelines() 메서드"
   ]
  },
  {
   "cell_type": "code",
   "execution_count": 8,
   "id": "b94dc902",
   "metadata": {},
   "outputs": [],
   "source": [
    "lines = [\"We'll find a way we always have - Interstellar\\n\",\n",
    "        \"I'll find you and I'll kill you - Taken\\n\",\n",
    "        \"I'll be back - Terminator 2\\n\"]  #list 자료형 데이터. 3가지 문자열 데이터."
   ]
  },
  {
   "cell_type": "code",
   "execution_count": 7,
   "id": "1a63b2d2",
   "metadata": {},
   "outputs": [],
   "source": [
    "with open('movie_quotes.txt', 'w') as file:      #  쓰기용으로 열기. 파일이 없다면 생성. \n",
    "    for line in lines:                           #  하나씩 읽어오면서 line에 담고, 담은 데이터를 write 매서드로 쓴다.\n",
    "            file.write(line)"
   ]
  },
  {
   "cell_type": "code",
   "execution_count": 9,
   "id": "c6001d62",
   "metadata": {},
   "outputs": [],
   "source": [
    "with open('movie_quotes2.txt', 'w') as file:\n",
    "    file.writelines(lines)                       # writelines 메서드. 한줄씩 읽어서 저장해주는 매서드. for문을 사용하지 않는다. "
   ]
  },
  {
   "cell_type": "markdown",
   "id": "6a3c49fe",
   "metadata": {},
   "source": [
    "### 텍스트 파일 읽기 / 쓰기\n",
    "##### 2. 줄 단위로 텍스트를 읽는 readline() & readlines() 메서드"
   ]
  },
  {
   "cell_type": "code",
   "execution_count": 13,
   "id": "2903a667",
   "metadata": {},
   "outputs": [
    {
     "name": "stdout",
     "output_type": "stream",
     "text": [
      "We'll find a way we always have - Interstellar\n",
      "I'll find you and I'll kill you - Taken\n",
      "I'll be back - Terminator 2\n"
     ]
    }
   ],
   "source": [
    "with open('movie_quotes.txt', 'r') as file:\n",
    "    line = file.readline()       # readline 메서드. 읽어온 데이터를 line 변수에 담기. \n",
    "    \n",
    "    while line != '':           # 반복문. \n",
    "        print(line, end = '')   # 현재 읽어온 데이터를 한줄씩 출력. end 속성에 여백을 줘서 줄바꿈 없이 데이터 읽어오기. \n",
    "        line = file.readline()"
   ]
  },
  {
   "cell_type": "code",
   "execution_count": 15,
   "id": "36de0cd8",
   "metadata": {},
   "outputs": [
    {
     "name": "stdout",
     "output_type": "stream",
     "text": [
      "We'll find a way we always have - Interstellar\n",
      "I'll find you and I'll kill you - Taken\n",
      "I'll be back - Terminator 2\n"
     ]
    }
   ],
   "source": [
    "with open('movie_quotes.txt', 'r') as file:\n",
    "    lines = file.readlines()\n",
    "    line = ''\n",
    "    \n",
    "    for line in lines:\n",
    "        print(line, end='')"
   ]
  },
  {
   "cell_type": "code",
   "execution_count": null,
   "id": "cdde4eba",
   "metadata": {},
   "outputs": [],
   "source": []
  }
 ],
 "metadata": {
  "kernelspec": {
   "display_name": "Python [conda env:tf_cpu] *",
   "language": "python",
   "name": "conda-env-tf_cpu-py"
  },
  "language_info": {
   "codemirror_mode": {
    "name": "ipython",
    "version": 3
   },
   "file_extension": ".py",
   "mimetype": "text/x-python",
   "name": "python",
   "nbconvert_exporter": "python",
   "pygments_lexer": "ipython3",
   "version": "3.7.13"
  }
 },
 "nbformat": 4,
 "nbformat_minor": 5
}
