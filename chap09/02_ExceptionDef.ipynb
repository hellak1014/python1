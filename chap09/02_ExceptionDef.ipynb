{
 "cells": [
  {
   "cell_type": "markdown",
   "id": "be6f3e27",
   "metadata": {},
   "source": [
    "## 파이썬의 예외처리 구문 1\n",
    "\n",
    "### Try\n",
    "#### 문제가 없을 경우 실행 할 코드\n",
    "\n",
    "### except\n",
    "#### 문제가 생겼을 때 실행 할 코드"
   ]
  },
  {
   "cell_type": "code",
   "execution_count": 3,
   "id": "45d93587",
   "metadata": {},
   "outputs": [
    {
     "name": "stdout",
     "output_type": "stream",
     "text": [
      "예외가 발생했습니다\n",
      "프로그램 종료\n"
     ]
    }
   ],
   "source": [
    "try:\n",
    "    print( 1 / 0 )  # 나눗셈은 0으로 나눌수가 없다. \n",
    "\n",
    "except:\n",
    "    print( \"예외가 발생했습니다\")\n",
    "\n",
    "print(\"프로그램 종료\")"
   ]
  },
  {
   "cell_type": "markdown",
   "id": "cdc124dc",
   "metadata": {},
   "source": [
    "## 파이썬의 예외처리 구문 2\n",
    "\n",
    "### Try\n",
    "#### 문제가 없을 경우 실행 할 코드\n",
    "\n",
    "### except 예외형식 1:\n",
    "#### 문제가 생겼을 때 실행 할 코드\n",
    "### except 예외형식 2:\n",
    "#### 문제가 생겼을 때 실행 할 코드"
   ]
  },
  {
   "cell_type": "code",
   "execution_count": 4,
   "id": "570468bb",
   "metadata": {},
   "outputs": [
    {
     "ename": "IndexError",
     "evalue": "list index out of range",
     "output_type": "error",
     "traceback": [
      "\u001b[1;31m---------------------------------------------------------------------------\u001b[0m",
      "\u001b[1;31mIndexError\u001b[0m                                Traceback (most recent call last)",
      "\u001b[1;32m~\\AppData\\Local\\Temp\\ipykernel_15420\\591205438.py\u001b[0m in \u001b[0;36m<module>\u001b[1;34m\u001b[0m\n\u001b[0;32m      1\u001b[0m \u001b[0mmy_list\u001b[0m \u001b[1;33m=\u001b[0m \u001b[1;33m[\u001b[0m\u001b[1;36m1\u001b[0m\u001b[1;33m,\u001b[0m \u001b[1;36m2\u001b[0m\u001b[1;33m,\u001b[0m \u001b[1;36m3\u001b[0m\u001b[1;33m]\u001b[0m \u001b[1;31m#list 형태의 자료형\u001b[0m\u001b[1;33m\u001b[0m\u001b[1;33m\u001b[0m\u001b[0m\n\u001b[0;32m      2\u001b[0m \u001b[1;33m\u001b[0m\u001b[0m\n\u001b[1;32m----> 3\u001b[1;33m \u001b[0mmy_list\u001b[0m\u001b[1;33m[\u001b[0m\u001b[1;36m4\u001b[0m\u001b[1;33m]\u001b[0m\u001b[1;33m\u001b[0m\u001b[1;33m\u001b[0m\u001b[0m\n\u001b[0m",
      "\u001b[1;31mIndexError\u001b[0m: list index out of range"
     ]
    }
   ],
   "source": [
    "my_list = [1, 2, 3] #list 형태의 자료형\n",
    "\n",
    "my_list[4] # IndexError: list index out of range"
   ]
  },
  {
   "cell_type": "code",
   "execution_count": 12,
   "id": "c5a29a99",
   "metadata": {},
   "outputs": [
    {
     "name": "stdout",
     "output_type": "stream",
     "text": [
      "첨자(인덱스)를 입력하세요:\n",
      "5\n",
      "잘못된 첨자입니다.(list index out of range).\n",
      "프로그램 종료\n"
     ]
    }
   ],
   "source": [
    "my_list = [1, 2, 3] #list 형태의 자료형\n",
    "\n",
    "try:\n",
    "    print(\"첨자(인덱스)를 입력하세요:\")\n",
    "    index = int(input())  # 받는 값이 int 할수 없는 값이면 에러일수도 있고, 받은 값의 인덱스가 없을수도 있고\n",
    "    print(my_list[index] / 0)  # 0으로 나눌수가 없어서 에러가 뜰수도 있다. \n",
    "except IndexError as e:    # 받는 인덱스가 없음. 자세한 에러를 알려주는 as e. \n",
    "    print (\"잘못된 첨자입니다.({0}).\".format(e))\n",
    "except ValueError as e:    # 받은 값이 숫자가 아님\n",
    "    print (\"잘못된 값입니다.({0}).\".format(e))\n",
    "except ZeroDivisionError as e:    # 0으로는 못 나눈다\n",
    "    print (\"0으로 나눌 수 없습니다.({0}).\".format(e))\n",
    "\n",
    "print(\"프로그램 종료\")"
   ]
  },
  {
   "cell_type": "markdown",
   "id": "4139551a",
   "metadata": {},
   "source": [
    "## 파이썬의 예외처리 구문 3\n",
    "\n",
    "### Try\n",
    "#### 문제가 없을 경우 실행 할 코드\n",
    "\n",
    "### except 예외형식 1:\n",
    "#### 문제가 생겼을 때 실행 할 코드\n",
    "### except 예외형식 2:\n",
    "#### 문제가 생겼을 때 실행 할 코드\n",
    "\n",
    "### else :    // 파이썬만 가능한 else 구문 \n",
    "#### except절을 만나지 않았을때 실행 할 코드"
   ]
  },
  {
   "cell_type": "code",
   "execution_count": 13,
   "id": "b157d664",
   "metadata": {},
   "outputs": [
    {
     "name": "stdout",
     "output_type": "stream",
     "text": [
      "첨자(인덱스)를 입력하세요:\n",
      "0\n",
      "my_list[0]:1\n",
      "리스트 요소 출력 성공 \n",
      "프로그램 종료\n"
     ]
    }
   ],
   "source": [
    "my_list = [1, 2, 3] #list 형태의 자료형\n",
    "\n",
    "try:\n",
    "    print(\"첨자(인덱스)를 입력하세요:\")\n",
    "    index = int(input()) \n",
    "    print(\"my_list[{0}]:{1}\".format(index, my_list[index])) \n",
    "except Exception as e:    \n",
    "    print (\"예외가 발생했습니다.({0}).\".format(e))\n",
    "else:                                # except가 한번도 발생하지 않을때 else가 실행된다. \n",
    "    print(\"리스트 요소 출력 성공 \")\n",
    "\n",
    "\n",
    "print(\"프로그램 종료\")"
   ]
  },
  {
   "cell_type": "markdown",
   "id": "ed828d9b",
   "metadata": {},
   "source": [
    "## 파이썬의 예외처리 구문 4\n",
    "\n",
    "### Try\n",
    "####      문제가 없을 경우 실행 할 코드\n",
    "\n",
    "### except 예외형식 1:\n",
    "####      문제가 생겼을 때 실행 할 코드\n",
    "### except 예외형식 2:\n",
    "####      문제가 생겼을 때 실행 할 코드\n",
    "\n",
    "### else :    // 파이썬만 가능한 else 구문 \n",
    "####      except절을 만나지 않았을때 실행 할 코드\n",
    "\n",
    "### finally:\n",
    "####      예외처리 구문의 처리가 끝나고 나가기 직전에 반드시 실행되는 코드. (예외 발생 유무에 상관이 없다.)\n",
    "\n",
    "### Or\n",
    "\n",
    "### Try\n",
    "####     문제가 없을 경우 실행 할 코드\n",
    "### except:\n",
    "####     예외 처리 코드 블록\n",
    "\n",
    "### finally:\n",
    "####     예외 발생 유무에 관계없이 실행되는 코드\n"
   ]
  },
  {
   "cell_type": "code",
   "execution_count": 18,
   "id": "5e983e7b",
   "metadata": {},
   "outputs": [
    {
     "name": "stdout",
     "output_type": "stream",
     "text": [
      "인덱스를 입력하세요\n",
      "8\n",
      "예외가 발생하였습니다(list index out of range).\n",
      "어떤 일이 있더라도 마무리됩니다.\n",
      "프로그램 종료\n"
     ]
    }
   ],
   "source": [
    "my_list = [1, 2, 3] #list 형태의 자료형\n",
    "\n",
    "try:\n",
    "    print (\"인덱스를 입력하세요\")\n",
    "    index = int(input())\n",
    "    print(\"my_list[{0}]:{1}\".format(index, my_list[index]))\n",
    "except Exception as e:\n",
    "    print(\"예외가 발생하였습니다({0}).\".format(e))\n",
    "finally:\n",
    "    print(\"어떤 일이 있더라도 마무리됩니다.\")\n",
    "    \n",
    "print(\"프로그램 종료\")"
   ]
  },
  {
   "cell_type": "markdown",
   "id": "21782ffb",
   "metadata": {},
   "source": [
    "### 강제 예외 발생"
   ]
  },
  {
   "cell_type": "code",
   "execution_count": 20,
   "id": "e935df15",
   "metadata": {},
   "outputs": [
    {
     "name": "stdout",
     "output_type": "stream",
     "text": [
      "123일이삼\n"
     ]
    },
    {
     "ename": "Exception",
     "evalue": "입력 받은 문자열이 숫자로 수정되어 있지 않습니다.",
     "output_type": "error",
     "traceback": [
      "\u001b[1;31m---------------------------------------------------------------------------\u001b[0m",
      "\u001b[1;31mException\u001b[0m                                 Traceback (most recent call last)",
      "\u001b[1;32m~\\AppData\\Local\\Temp\\ipykernel_15420\\1852657299.py\u001b[0m in \u001b[0;36m<module>\u001b[1;34m\u001b[0m\n\u001b[0;32m      2\u001b[0m \u001b[1;33m\u001b[0m\u001b[0m\n\u001b[0;32m      3\u001b[0m \u001b[1;32mif\u001b[0m \u001b[0mtext\u001b[0m\u001b[1;33m.\u001b[0m\u001b[0misdigit\u001b[0m\u001b[1;33m(\u001b[0m\u001b[1;33m)\u001b[0m \u001b[1;33m==\u001b[0m \u001b[1;32mFalse\u001b[0m\u001b[1;33m:\u001b[0m\u001b[1;33m\u001b[0m\u001b[1;33m\u001b[0m\u001b[0m\n\u001b[1;32m----> 4\u001b[1;33m     \u001b[1;32mraise\u001b[0m \u001b[0mException\u001b[0m\u001b[1;33m(\u001b[0m\u001b[1;34m\"입력 받은 문자열이 숫자로 수정되어 있지 않습니다.\"\u001b[0m\u001b[1;33m)\u001b[0m\u001b[1;33m\u001b[0m\u001b[1;33m\u001b[0m\u001b[0m\n\u001b[0m\u001b[0;32m      5\u001b[0m \u001b[1;33m\u001b[0m\u001b[0m\n\u001b[0;32m      6\u001b[0m \u001b[1;33m\u001b[0m\u001b[0m\n",
      "\u001b[1;31mException\u001b[0m: 입력 받은 문자열이 숫자로 수정되어 있지 않습니다."
     ]
    }
   ],
   "source": [
    "text = input()\n",
    "\n",
    "if text.isdigit() == False:\n",
    "    raise Exception(\"입력 받은 문자열이 숫자로 수정되어 있지 않습니다.\")\n",
    "    \n",
    "\n",
    "print(\"프로그램 종료\")"
   ]
  },
  {
   "cell_type": "code",
   "execution_count": 23,
   "id": "2919d193",
   "metadata": {},
   "outputs": [
    {
     "name": "stdout",
     "output_type": "stream",
     "text": [
      "일이12\n",
      "예외가 발생했습니다. : 입력 받은 문자열이 숫자로 구성되어 있지 않습니다..\n",
      "프로그램 종료\n"
     ]
    }
   ],
   "source": [
    "try:\n",
    "    text = input()\n",
    "\n",
    "    if text.isdigit() == False:    # 숫자로만 구성되지 않았을때 출력될 문구\n",
    "        raise Exception(\"입력 받은 문자열이 숫자로 구성되어 있지 않습니다..\")\n",
    "\n",
    "except Exception as e:     # 자세한 에러내용이 담겨있는 매개변수 e\n",
    "    print (\"예외가 발생했습니다. : {0}\".format(e))     # 여기에다 넣어주기\n",
    "\n",
    "print(\"프로그램 종료\")"
   ]
  },
  {
   "cell_type": "code",
   "execution_count": 45,
   "id": "749bedfa",
   "metadata": {},
   "outputs": [],
   "source": [
    "def sum_function():\n",
    "    print(\"1~10 사이의 수를 입력하세요.\")\n",
    "    num = int(input())\n",
    "    \n",
    "    if num < 1 or num > 10 : \n",
    "        raise Exception(\"유효하지 않은 숫자입니다. :{0}\".format(num)) # 범위에서 벗어난 수 입력시 강제 예외 발생. \n",
    "    else:\n",
    "        print(\"입력한 숫자는 {0} 입니다.\".format(num))  # 정상 범위 수 입력시 출력. \n",
    "        \n",
    "# 함수가 호출될때 의미가 가진다. "
   ]
  },
  {
   "cell_type": "code",
   "execution_count": 35,
   "id": "a6c2cfa8",
   "metadata": {},
   "outputs": [
    {
     "name": "stdout",
     "output_type": "stream",
     "text": [
      "1~10 사이의 수를 입력하세요.\n",
      "88\n",
      "예외가 발생했습니다. : 유효하지 않은 숫자입니다. :88\n"
     ]
    }
   ],
   "source": [
    "try:\n",
    "    sum_function()\n",
    "except Exception as e:     # 자세한 에러 내용 담겨있는 매개변수 e\n",
    "    print(\"예외가 발생했습니다. : {0}\".format(e))"
   ]
  },
  {
   "cell_type": "code",
   "execution_count": 48,
   "id": "f948708c",
   "metadata": {},
   "outputs": [],
   "source": [
    "def some_function_caller():\n",
    "    try:\n",
    "        some_function()\n",
    "    except Exception as e:\n",
    "        print(\"(1) 예외가 발생했습니다.{0}\".format(e))\n",
    "        raise      # 예외 또 발생"
   ]
  },
  {
   "cell_type": "code",
   "execution_count": 49,
   "id": "45a90efc",
   "metadata": {},
   "outputs": [
    {
     "name": "stdout",
     "output_type": "stream",
     "text": [
      "(1) 예외가 발생했습니다.name 'some_function' is not defined\n",
      "(2) 예외가 발생했습니다.name 'some_function' is not defined\n"
     ]
    }
   ],
   "source": [
    "try:\n",
    "    some_function_caller()\n",
    "except Exception as e:\n",
    "    print(\"(2) 예외가 발생했습니다.{0}\".format(e))\n",
    "    "
   ]
  },
  {
   "cell_type": "markdown",
   "id": "b520bd9c",
   "metadata": {},
   "source": [
    "### 사용자 정의 예외 형식"
   ]
  },
  {
   "cell_type": "code",
   "execution_count": 50,
   "id": "63bcb886",
   "metadata": {},
   "outputs": [],
   "source": [
    "class MyException(Exception):    # 참조 자료형 선언하면서 예외처리를 위한 모든 기능을 상속 받는다.\n",
    "    def __init__(self):          # 생성자 매서드\n",
    "        super().__init__(\"MyException이 발생했습니다.\")  # 부모 생성자 호출"
   ]
  },
  {
   "cell_type": "code",
   "execution_count": 51,
   "id": "ada6c3a2",
   "metadata": {},
   "outputs": [
    {
     "ename": "MyException",
     "evalue": "MyException이 발생했습니다.",
     "output_type": "error",
     "traceback": [
      "\u001b[1;31m---------------------------------------------------------------------------\u001b[0m",
      "\u001b[1;31mMyException\u001b[0m                               Traceback (most recent call last)",
      "\u001b[1;32m~\\AppData\\Local\\Temp\\ipykernel_15420\\3308966436.py\u001b[0m in \u001b[0;36m<module>\u001b[1;34m\u001b[0m\n\u001b[0;32m      2\u001b[0m \u001b[1;33m\u001b[0m\u001b[0m\n\u001b[0;32m      3\u001b[0m \u001b[1;32mif\u001b[0m \u001b[0meverythis_is_fine\u001b[0m \u001b[1;33m==\u001b[0m \u001b[1;32mFalse\u001b[0m\u001b[1;33m:\u001b[0m\u001b[1;33m\u001b[0m\u001b[1;33m\u001b[0m\u001b[0m\n\u001b[1;32m----> 4\u001b[1;33m     \u001b[1;32mraise\u001b[0m \u001b[0mMyException\u001b[0m\u001b[1;33m(\u001b[0m\u001b[1;33m)\u001b[0m        \u001b[1;31m# 참조 자료형이나 함수 호출하듯 호출.\u001b[0m\u001b[1;33m\u001b[0m\u001b[1;33m\u001b[0m\u001b[0m\n\u001b[0m",
      "\u001b[1;31mMyException\u001b[0m: MyException이 발생했습니다."
     ]
    }
   ],
   "source": [
    "everythis_is_fine = False\n",
    "\n",
    "if everythis_is_fine == False:\n",
    "    raise MyException()        # 참조 자료형이나 함수 호출하듯 호출. "
   ]
  },
  {
   "cell_type": "code",
   "execution_count": 55,
   "id": "fa762bef",
   "metadata": {},
   "outputs": [],
   "source": [
    "class InvalidException(Exception):\n",
    "      def __init__(self, args):\n",
    "            super().__init__(\"정수가 아닙니다. :{0}\".format(args))\n",
    "\n",
    "def convert_to_integer(text):\n",
    "    if text.isdigit():\n",
    "        return int(text)\n",
    "    else:\n",
    "        raise InvalidException(text)\n",
    "        "
   ]
  },
  {
   "cell_type": "code",
   "execution_count": 57,
   "id": "a8d267e5",
   "metadata": {},
   "outputs": [
    {
     "name": "stdout",
     "output_type": "stream",
     "text": [
      "(사용자 정의 예외) 숫자를 입력하세요.\n",
      "일이삼\n",
      "예외가 발생했습니다(정수가 아닙니다. :일이삼)\n",
      "프로그램 종료\n"
     ]
    }
   ],
   "source": [
    "try:\n",
    "    print(\"(사용자 정의 예외) 숫자를 입력하세요.\")\n",
    "    text = input()\n",
    "    number = convert_to_integer(text)\n",
    "except InvalidException as e:\n",
    "    print(\"예외가 발생했습니다({0})\".format(e))\n",
    "else:\n",
    "    print(\"정수 형식으로 변환되었습니다. : {0}([1])\".format(number, type(number)))\n",
    "\n",
    "print(\"프로그램 종료\")"
   ]
  }
 ],
 "metadata": {
  "kernelspec": {
   "display_name": "Python [conda env:tf_cpu] *",
   "language": "python",
   "name": "conda-env-tf_cpu-py"
  },
  "language_info": {
   "codemirror_mode": {
    "name": "ipython",
    "version": 3
   },
   "file_extension": ".py",
   "mimetype": "text/x-python",
   "name": "python",
   "nbconvert_exporter": "python",
   "pygments_lexer": "ipython3",
   "version": "3.7.13"
  }
 },
 "nbformat": 4,
 "nbformat_minor": 5
}
